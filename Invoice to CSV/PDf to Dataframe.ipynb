{
 "cells": [
  {
   "cell_type": "code",
   "execution_count": 1,
   "metadata": {},
   "outputs": [
    {
     "name": "stdout",
     "output_type": "stream",
     "text": [
      "Collecting PyPDF2\n",
      "  Using cached PyPDF2-1.26.0-py3-none-any.whl\n",
      "Installing collected packages: PyPDF2\n",
      "Successfully installed PyPDF2-1.26.0\n",
      "Note: you may need to restart the kernel to use updated packages.\n"
     ]
    }
   ],
   "source": [
    "pip install PyPDF2"
   ]
  },
  {
   "cell_type": "code",
   "execution_count": 9,
   "metadata": {},
   "outputs": [],
   "source": [
    "import numpy as np\n",
    "import pandas as pd\n",
    "import PyPDF2 as pypdf"
   ]
  },
  {
   "cell_type": "code",
   "execution_count": 2,
   "metadata": {},
   "outputs": [],
   "source": [
    "pdfobject=open('test1.pdf','rb')"
   ]
  },
  {
   "cell_type": "code",
   "execution_count": 5,
   "metadata": {},
   "outputs": [],
   "source": [
    "pdf=pypdf.PdfFileReader(pdfobject)\n"
   ]
  },
  {
   "cell_type": "code",
   "execution_count": 7,
   "metadata": {},
   "outputs": [
    {
     "data": {
      "text/plain": [
       "{'Health Plan': 'Commonwealth Care Alliance',\n",
       " 'Requesting Provider Name and NPI': 'sdfdsf',\n",
       " 'Contact PersonRow1': None,\n",
       " 'Patient Name': None,\n",
       " 'Address': None,\n",
       " 'Text1': '855-341-0720',\n",
       " 'Text2': '10/10/2020',\n",
       " 'Text37': 'sdfsdf',\n",
       " 'Text38': 'dsfsdf',\n",
       " 'Text39': 'sdfsdf',\n",
       " 'Text40': None,\n",
       " 'Text4': None,\n",
       " 'Text44': None,\n",
       " 'Text45': None,\n",
       " 'Text46': None,\n",
       " 'Text47': None,\n",
       " 'Text48': None,\n",
       " 'Text49': None,\n",
       " 'Text52': None,\n",
       " 'Text53': None,\n",
       " 'Text54': None,\n",
       " 'Text55': None,\n",
       " 'Text56': None,\n",
       " 'Text57': None,\n",
       " 'Text58': None,\n",
       " 'Text59': None,\n",
       " 'Text65': None,\n",
       " 'Text66': None,\n",
       " 'Text67': None,\n",
       " 'Text73': None,\n",
       " 'Text74': None}"
      ]
     },
     "execution_count": 7,
     "metadata": {},
     "output_type": "execute_result"
    }
   ],
   "source": [
    "text = pdf.getFormTextFields()\n",
    "text"
   ]
  },
  {
   "cell_type": "code",
   "execution_count": 12,
   "metadata": {},
   "outputs": [
    {
     "data": {
      "text/plain": [
       "dict_keys(['Health Plan', 'Requesting Provider Name and NPI', 'Contact PersonRow1', 'Patient Name', 'Address', 'Text1', 'Text2', 'Text37', 'Text38', 'Text39', 'Text40', 'Text4', 'Text44', 'Text45', 'Text46', 'Text47', 'Text48', 'Text49', 'Text52', 'Text53', 'Text54', 'Text55', 'Text56', 'Text57', 'Text58', 'Text59', 'Text65', 'Text66', 'Text67', 'Text73', 'Text74'])"
      ]
     },
     "execution_count": 12,
     "metadata": {},
     "output_type": "execute_result"
    }
   ],
   "source": [
    "text.keys()"
   ]
  },
  {
   "cell_type": "code",
   "execution_count": 20,
   "metadata": {},
   "outputs": [
    {
     "data": {
      "text/html": [
       "<div>\n",
       "<style scoped>\n",
       "    .dataframe tbody tr th:only-of-type {\n",
       "        vertical-align: middle;\n",
       "    }\n",
       "\n",
       "    .dataframe tbody tr th {\n",
       "        vertical-align: top;\n",
       "    }\n",
       "\n",
       "    .dataframe thead th {\n",
       "        text-align: right;\n",
       "    }\n",
       "</style>\n",
       "<table border=\"1\" class=\"dataframe\">\n",
       "  <thead>\n",
       "    <tr style=\"text-align: right;\">\n",
       "      <th></th>\n",
       "      <th>Address</th>\n",
       "      <th>Contact PersonRow1</th>\n",
       "      <th>Health Plan</th>\n",
       "      <th>Patient Name</th>\n",
       "      <th>Requesting Provider Name and NPI</th>\n",
       "      <th>Text1</th>\n",
       "      <th>Text2</th>\n",
       "      <th>Text37</th>\n",
       "      <th>Text38</th>\n",
       "      <th>Text39</th>\n",
       "      <th>...</th>\n",
       "      <th>Text55</th>\n",
       "      <th>Text56</th>\n",
       "      <th>Text57</th>\n",
       "      <th>Text58</th>\n",
       "      <th>Text59</th>\n",
       "      <th>Text65</th>\n",
       "      <th>Text66</th>\n",
       "      <th>Text67</th>\n",
       "      <th>Text73</th>\n",
       "      <th>Text74</th>\n",
       "    </tr>\n",
       "  </thead>\n",
       "  <tbody>\n",
       "    <tr>\n",
       "      <th>0</th>\n",
       "      <td>None</td>\n",
       "      <td>None</td>\n",
       "      <td>Commonwealth Care Alliance</td>\n",
       "      <td>None</td>\n",
       "      <td>sdfdsf</td>\n",
       "      <td>855-341-0720</td>\n",
       "      <td>10/10/2020</td>\n",
       "      <td>sdfsdf</td>\n",
       "      <td>dsfsdf</td>\n",
       "      <td>sdfsdf</td>\n",
       "      <td>...</td>\n",
       "      <td>None</td>\n",
       "      <td>None</td>\n",
       "      <td>None</td>\n",
       "      <td>None</td>\n",
       "      <td>None</td>\n",
       "      <td>None</td>\n",
       "      <td>None</td>\n",
       "      <td>None</td>\n",
       "      <td>None</td>\n",
       "      <td>None</td>\n",
       "    </tr>\n",
       "  </tbody>\n",
       "</table>\n",
       "<p>1 rows × 31 columns</p>\n",
       "</div>"
      ],
      "text/plain": [
       "  Address Contact PersonRow1                 Health Plan Patient Name  \\\n",
       "0    None               None  Commonwealth Care Alliance         None   \n",
       "\n",
       "  Requesting Provider Name and NPI         Text1       Text2  Text37  Text38  \\\n",
       "0                           sdfdsf  855-341-0720  10/10/2020  sdfsdf  dsfsdf   \n",
       "\n",
       "   Text39  ... Text55 Text56 Text57 Text58 Text59 Text65 Text66 Text67 Text73  \\\n",
       "0  sdfsdf  ...   None   None   None   None   None   None   None   None   None   \n",
       "\n",
       "  Text74  \n",
       "0   None  \n",
       "\n",
       "[1 rows x 31 columns]"
      ]
     },
     "execution_count": 20,
     "metadata": {},
     "output_type": "execute_result"
    }
   ],
   "source": [
    "a = pd.DataFrame.from_records(text, index=[0])\n",
    "a"
   ]
  },
  {
   "cell_type": "code",
   "execution_count": null,
   "metadata": {},
   "outputs": [],
   "source": [
    "b = df.append"
   ]
  },
  {
   "cell_type": "code",
   "execution_count": null,
   "metadata": {},
   "outputs": [],
   "source": []
  },
  {
   "cell_type": "code",
   "execution_count": 24,
   "metadata": {},
   "outputs": [],
   "source": [
    "pdfobject=open('test4.pdf','rb')\n",
    "pdf=pypdf.PdfFileReader(pdfobject)\n",
    "text1 = pdf.getFormTextFields()\n",
    "b = pd.DataFrame.from_records(text1, index=[1 + a.tail(1).index.item()])"
   ]
  },
  {
   "cell_type": "code",
   "execution_count": 25,
   "metadata": {},
   "outputs": [
    {
     "data": {
      "text/html": [
       "<div>\n",
       "<style scoped>\n",
       "    .dataframe tbody tr th:only-of-type {\n",
       "        vertical-align: middle;\n",
       "    }\n",
       "\n",
       "    .dataframe tbody tr th {\n",
       "        vertical-align: top;\n",
       "    }\n",
       "\n",
       "    .dataframe thead th {\n",
       "        text-align: right;\n",
       "    }\n",
       "</style>\n",
       "<table border=\"1\" class=\"dataframe\">\n",
       "  <thead>\n",
       "    <tr style=\"text-align: right;\">\n",
       "      <th></th>\n",
       "      <th>Address</th>\n",
       "      <th>Contact PersonRow1</th>\n",
       "      <th>Health Plan</th>\n",
       "      <th>Patient Name</th>\n",
       "      <th>Requesting Provider Name and NPI</th>\n",
       "      <th>Text1</th>\n",
       "      <th>Text2</th>\n",
       "      <th>Text37</th>\n",
       "      <th>Text38</th>\n",
       "      <th>Text39</th>\n",
       "      <th>...</th>\n",
       "      <th>Text55</th>\n",
       "      <th>Text56</th>\n",
       "      <th>Text57</th>\n",
       "      <th>Text58</th>\n",
       "      <th>Text59</th>\n",
       "      <th>Text65</th>\n",
       "      <th>Text66</th>\n",
       "      <th>Text67</th>\n",
       "      <th>Text73</th>\n",
       "      <th>Text74</th>\n",
       "    </tr>\n",
       "  </thead>\n",
       "  <tbody>\n",
       "    <tr>\n",
       "      <th>1</th>\n",
       "      <td>None</td>\n",
       "      <td>None</td>\n",
       "      <td>Commonwealth Care Alliance</td>\n",
       "      <td>None</td>\n",
       "      <td>sdfdsf</td>\n",
       "      <td>855-341-0720</td>\n",
       "      <td>10/10/2020</td>\n",
       "      <td>sdfsdf</td>\n",
       "      <td>dsfsdf</td>\n",
       "      <td>sdfsdf</td>\n",
       "      <td>...</td>\n",
       "      <td>None</td>\n",
       "      <td>None</td>\n",
       "      <td>None</td>\n",
       "      <td>None</td>\n",
       "      <td>None</td>\n",
       "      <td>None</td>\n",
       "      <td>None</td>\n",
       "      <td>None</td>\n",
       "      <td>None</td>\n",
       "      <td>None</td>\n",
       "    </tr>\n",
       "  </tbody>\n",
       "</table>\n",
       "<p>1 rows × 31 columns</p>\n",
       "</div>"
      ],
      "text/plain": [
       "  Address Contact PersonRow1                 Health Plan Patient Name  \\\n",
       "1    None               None  Commonwealth Care Alliance         None   \n",
       "\n",
       "  Requesting Provider Name and NPI         Text1       Text2  Text37  Text38  \\\n",
       "1                           sdfdsf  855-341-0720  10/10/2020  sdfsdf  dsfsdf   \n",
       "\n",
       "   Text39  ... Text55 Text56 Text57 Text58 Text59 Text65 Text66 Text67 Text73  \\\n",
       "1  sdfsdf  ...   None   None   None   None   None   None   None   None   None   \n",
       "\n",
       "  Text74  \n",
       "1   None  \n",
       "\n",
       "[1 rows x 31 columns]"
      ]
     },
     "execution_count": 25,
     "metadata": {},
     "output_type": "execute_result"
    }
   ],
   "source": []
  },
  {
   "cell_type": "code",
   "execution_count": 27,
   "metadata": {},
   "outputs": [],
   "source": [
    "a = a.append(b)"
   ]
  },
  {
   "cell_type": "code",
   "execution_count": 28,
   "metadata": {},
   "outputs": [
    {
     "data": {
      "text/html": [
       "<div>\n",
       "<style scoped>\n",
       "    .dataframe tbody tr th:only-of-type {\n",
       "        vertical-align: middle;\n",
       "    }\n",
       "\n",
       "    .dataframe tbody tr th {\n",
       "        vertical-align: top;\n",
       "    }\n",
       "\n",
       "    .dataframe thead th {\n",
       "        text-align: right;\n",
       "    }\n",
       "</style>\n",
       "<table border=\"1\" class=\"dataframe\">\n",
       "  <thead>\n",
       "    <tr style=\"text-align: right;\">\n",
       "      <th></th>\n",
       "      <th>Address</th>\n",
       "      <th>Contact PersonRow1</th>\n",
       "      <th>Health Plan</th>\n",
       "      <th>Patient Name</th>\n",
       "      <th>Requesting Provider Name and NPI</th>\n",
       "      <th>Text1</th>\n",
       "      <th>Text2</th>\n",
       "      <th>Text37</th>\n",
       "      <th>Text38</th>\n",
       "      <th>Text39</th>\n",
       "      <th>...</th>\n",
       "      <th>Text55</th>\n",
       "      <th>Text56</th>\n",
       "      <th>Text57</th>\n",
       "      <th>Text58</th>\n",
       "      <th>Text59</th>\n",
       "      <th>Text65</th>\n",
       "      <th>Text66</th>\n",
       "      <th>Text67</th>\n",
       "      <th>Text73</th>\n",
       "      <th>Text74</th>\n",
       "    </tr>\n",
       "  </thead>\n",
       "  <tbody>\n",
       "    <tr>\n",
       "      <th>0</th>\n",
       "      <td>None</td>\n",
       "      <td>None</td>\n",
       "      <td>Commonwealth Care Alliance</td>\n",
       "      <td>None</td>\n",
       "      <td>sdfdsf</td>\n",
       "      <td>855-341-0720</td>\n",
       "      <td>10/10/2020</td>\n",
       "      <td>sdfsdf</td>\n",
       "      <td>dsfsdf</td>\n",
       "      <td>sdfsdf</td>\n",
       "      <td>...</td>\n",
       "      <td>None</td>\n",
       "      <td>None</td>\n",
       "      <td>None</td>\n",
       "      <td>None</td>\n",
       "      <td>None</td>\n",
       "      <td>None</td>\n",
       "      <td>None</td>\n",
       "      <td>None</td>\n",
       "      <td>None</td>\n",
       "      <td>None</td>\n",
       "    </tr>\n",
       "    <tr>\n",
       "      <th>1</th>\n",
       "      <td>None</td>\n",
       "      <td>None</td>\n",
       "      <td>Commonwealth Care Alliance</td>\n",
       "      <td>None</td>\n",
       "      <td>sdfdsf</td>\n",
       "      <td>855-341-0720</td>\n",
       "      <td>10/10/2020</td>\n",
       "      <td>sdfsdf</td>\n",
       "      <td>dsfsdf</td>\n",
       "      <td>sdfsdf</td>\n",
       "      <td>...</td>\n",
       "      <td>None</td>\n",
       "      <td>None</td>\n",
       "      <td>None</td>\n",
       "      <td>None</td>\n",
       "      <td>None</td>\n",
       "      <td>None</td>\n",
       "      <td>None</td>\n",
       "      <td>None</td>\n",
       "      <td>None</td>\n",
       "      <td>None</td>\n",
       "    </tr>\n",
       "  </tbody>\n",
       "</table>\n",
       "<p>2 rows × 31 columns</p>\n",
       "</div>"
      ],
      "text/plain": [
       "  Address Contact PersonRow1                 Health Plan Patient Name  \\\n",
       "0    None               None  Commonwealth Care Alliance         None   \n",
       "1    None               None  Commonwealth Care Alliance         None   \n",
       "\n",
       "  Requesting Provider Name and NPI         Text1       Text2  Text37  Text38  \\\n",
       "0                           sdfdsf  855-341-0720  10/10/2020  sdfsdf  dsfsdf   \n",
       "1                           sdfdsf  855-341-0720  10/10/2020  sdfsdf  dsfsdf   \n",
       "\n",
       "   Text39  ... Text55 Text56 Text57 Text58 Text59 Text65 Text66 Text67 Text73  \\\n",
       "0  sdfsdf  ...   None   None   None   None   None   None   None   None   None   \n",
       "1  sdfsdf  ...   None   None   None   None   None   None   None   None   None   \n",
       "\n",
       "  Text74  \n",
       "0   None  \n",
       "1   None  \n",
       "\n",
       "[2 rows x 31 columns]"
      ]
     },
     "execution_count": 28,
     "metadata": {},
     "output_type": "execute_result"
    }
   ],
   "source": [
    "a"
   ]
  },
  {
   "cell_type": "code",
   "execution_count": 22,
   "metadata": {},
   "outputs": [
    {
     "data": {
      "text/plain": [
       "0"
      ]
     },
     "execution_count": 22,
     "metadata": {},
     "output_type": "execute_result"
    }
   ],
   "source": [
    "a.tail(1).index.item()"
   ]
  },
  {
   "cell_type": "code",
   "execution_count": null,
   "metadata": {},
   "outputs": [],
   "source": []
  },
  {
   "cell_type": "code",
   "execution_count": 17,
   "metadata": {},
   "outputs": [],
   "source": [
    "import numpy as np\n",
    "import pandas as pd\n",
    "import PyPDF2 as pypdf\n",
    "import os\n",
    "directory = './'\n",
    "file_list = []\n",
    "for filename in os.listdir(directory):\n",
    "    if filename.endswith(\".pdf\") :\n",
    "        file_list.append(os.path.join(directory, filename))\n",
    "#         file_list = [i.split('/')[1] for i in file_list]\n",
    "#         print(os.path.join(directory, filename))\n",
    "        continue\n",
    "    else:\n",
    "        continue\n",
    "# files  \n",
    "# pdfobject=open('test1.pdf','rb')\n",
    "# pdf=pypdf.PdfFileReader(pdfobject)\n",
    "# text = pdf.getFormTextFields()\n",
    "# a = pd.DataFrame.from_records(text, index=[0])\n",
    "\n",
    "def pdf_to_record():\n",
    "    \n",
    "    pdfobject=open('test1.pdf','rb')\n",
    "    pdf=pypdf.PdfFileReader(pdfobject)\n",
    "    text = pdf.getFormTextFields()\n",
    "    a = pd.DataFrame.from_records(text, index=[0])\n",
    "    a = a.iloc[0:0]\n",
    "    li = [elem.split('/') for elem in file_list]\n",
    "    unimportant, files =[], []\n",
    "    frame = []\n",
    "    for element in li:\n",
    "        unimportant.append(element[0])\n",
    "        files.append(element[1])\n",
    "    for f in files:    \n",
    "        pdfobject=open(f,'rb')\n",
    "#         print(type(f))\n",
    "        pdf=pypdf.PdfFileReader(pdfobject)\n",
    "        text = pdf.getFormTextFields()\n",
    "        temp = pd.DataFrame.from_records(text, index=[0])\n",
    "        frame.append(temp)\n",
    "    a = pd.concat(frame)\n",
    "    a = a.reset_index()\n",
    "    return a\n",
    "#     filename = input()\n",
    "#     pdfobject=open(filename ,'rb')\n",
    "#     pdf=pypdf.PdfFileReader(pdfobject)\n",
    "#     text1 = pdf.getFormTextFields()\n",
    "#     b = pd.DataFrame.from_records(text1, index=[1 + a.tail(1).index.item()])\n",
    "#     a = a.append(b)\n",
    "#     return a"
   ]
  },
  {
   "cell_type": "code",
   "execution_count": null,
   "metadata": {},
   "outputs": [],
   "source": []
  },
  {
   "cell_type": "code",
   "execution_count": 18,
   "metadata": {},
   "outputs": [
    {
     "data": {
      "text/html": [
       "<div>\n",
       "<style scoped>\n",
       "    .dataframe tbody tr th:only-of-type {\n",
       "        vertical-align: middle;\n",
       "    }\n",
       "\n",
       "    .dataframe tbody tr th {\n",
       "        vertical-align: top;\n",
       "    }\n",
       "\n",
       "    .dataframe thead th {\n",
       "        text-align: right;\n",
       "    }\n",
       "</style>\n",
       "<table border=\"1\" class=\"dataframe\">\n",
       "  <thead>\n",
       "    <tr style=\"text-align: right;\">\n",
       "      <th></th>\n",
       "      <th>index</th>\n",
       "      <th>Address</th>\n",
       "      <th>Contact PersonRow1</th>\n",
       "      <th>Health Plan</th>\n",
       "      <th>Patient Name</th>\n",
       "      <th>Requesting Provider Name and NPI</th>\n",
       "      <th>Text1</th>\n",
       "      <th>Text2</th>\n",
       "      <th>Text37</th>\n",
       "      <th>Text38</th>\n",
       "      <th>...</th>\n",
       "      <th>Text55</th>\n",
       "      <th>Text56</th>\n",
       "      <th>Text57</th>\n",
       "      <th>Text58</th>\n",
       "      <th>Text59</th>\n",
       "      <th>Text65</th>\n",
       "      <th>Text66</th>\n",
       "      <th>Text67</th>\n",
       "      <th>Text73</th>\n",
       "      <th>Text74</th>\n",
       "    </tr>\n",
       "  </thead>\n",
       "  <tbody>\n",
       "    <tr>\n",
       "      <th>0</th>\n",
       "      <td>0</td>\n",
       "      <td>None</td>\n",
       "      <td>None</td>\n",
       "      <td>Commonwealth Care Alliance</td>\n",
       "      <td>None</td>\n",
       "      <td>sdfdsf</td>\n",
       "      <td>855-341-0720</td>\n",
       "      <td>10/10/2020</td>\n",
       "      <td>sdfsdf</td>\n",
       "      <td>dsfsdf</td>\n",
       "      <td>...</td>\n",
       "      <td>None</td>\n",
       "      <td>None</td>\n",
       "      <td>None</td>\n",
       "      <td>None</td>\n",
       "      <td>None</td>\n",
       "      <td>None</td>\n",
       "      <td>None</td>\n",
       "      <td>None</td>\n",
       "      <td>None</td>\n",
       "      <td>None</td>\n",
       "    </tr>\n",
       "    <tr>\n",
       "      <th>1</th>\n",
       "      <td>0</td>\n",
       "      <td>None</td>\n",
       "      <td>None</td>\n",
       "      <td>Commonwealth Care Alliance</td>\n",
       "      <td>None</td>\n",
       "      <td>sdfdsf</td>\n",
       "      <td>855-341-0720</td>\n",
       "      <td>10/10/2020</td>\n",
       "      <td>sdfsdf</td>\n",
       "      <td>dsfsdf</td>\n",
       "      <td>...</td>\n",
       "      <td>None</td>\n",
       "      <td>None</td>\n",
       "      <td>None</td>\n",
       "      <td>None</td>\n",
       "      <td>None</td>\n",
       "      <td>None</td>\n",
       "      <td>None</td>\n",
       "      <td>None</td>\n",
       "      <td>None</td>\n",
       "      <td>None</td>\n",
       "    </tr>\n",
       "    <tr>\n",
       "      <th>2</th>\n",
       "      <td>0</td>\n",
       "      <td>None</td>\n",
       "      <td>None</td>\n",
       "      <td>Commonwealth Care Alliance</td>\n",
       "      <td>None</td>\n",
       "      <td>sdfdsf</td>\n",
       "      <td>855-341-0720</td>\n",
       "      <td>10/10/2020</td>\n",
       "      <td>sdfsdf</td>\n",
       "      <td>dsfsdf</td>\n",
       "      <td>...</td>\n",
       "      <td>None</td>\n",
       "      <td>None</td>\n",
       "      <td>None</td>\n",
       "      <td>None</td>\n",
       "      <td>None</td>\n",
       "      <td>None</td>\n",
       "      <td>None</td>\n",
       "      <td>None</td>\n",
       "      <td>None</td>\n",
       "      <td>None</td>\n",
       "    </tr>\n",
       "  </tbody>\n",
       "</table>\n",
       "<p>3 rows × 32 columns</p>\n",
       "</div>"
      ],
      "text/plain": [
       "   index Address Contact PersonRow1                 Health Plan Patient Name  \\\n",
       "0      0    None               None  Commonwealth Care Alliance         None   \n",
       "1      0    None               None  Commonwealth Care Alliance         None   \n",
       "2      0    None               None  Commonwealth Care Alliance         None   \n",
       "\n",
       "  Requesting Provider Name and NPI         Text1       Text2  Text37  Text38  \\\n",
       "0                           sdfdsf  855-341-0720  10/10/2020  sdfsdf  dsfsdf   \n",
       "1                           sdfdsf  855-341-0720  10/10/2020  sdfsdf  dsfsdf   \n",
       "2                           sdfdsf  855-341-0720  10/10/2020  sdfsdf  dsfsdf   \n",
       "\n",
       "   ... Text55 Text56 Text57 Text58 Text59 Text65 Text66 Text67 Text73 Text74  \n",
       "0  ...   None   None   None   None   None   None   None   None   None   None  \n",
       "1  ...   None   None   None   None   None   None   None   None   None   None  \n",
       "2  ...   None   None   None   None   None   None   None   None   None   None  \n",
       "\n",
       "[3 rows x 32 columns]"
      ]
     },
     "execution_count": 18,
     "metadata": {},
     "output_type": "execute_result"
    }
   ],
   "source": [
    "pdf_to_record()"
   ]
  },
  {
   "cell_type": "code",
   "execution_count": 10,
   "metadata": {},
   "outputs": [],
   "source": [
    "extensions = ['.pdf']\n",
    "def get_file_list(root_dir):\n",
    "    file_list = []\n",
    "    counter = 1\n",
    "    for root, directories, filenames in os.walk(root_dir):\n",
    "        for filename in filenames:\n",
    "            if any(ext in filename for ext in extensions):\n",
    "                file_list.append(os.path.join(root, filename))\n",
    "                counter += 1\n",
    "    return file_list"
   ]
  },
  {
   "cell_type": "code",
   "execution_count": 11,
   "metadata": {},
   "outputs": [
    {
     "data": {
      "text/plain": [
       "'Untitled.ipynb'"
      ]
     },
     "execution_count": 11,
     "metadata": {},
     "output_type": "execute_result"
    }
   ],
   "source": [
    "filenames = sorted(get_file_list(root_dir))\n",
    "filename"
   ]
  },
  {
   "cell_type": "code",
   "execution_count": null,
   "metadata": {},
   "outputs": [],
   "source": []
  },
  {
   "cell_type": "code",
   "execution_count": null,
   "metadata": {},
   "outputs": [],
   "source": []
  },
  {
   "cell_type": "code",
   "execution_count": 84,
   "metadata": {},
   "outputs": [],
   "source": [
    "pdfobject=open('test1.pdf','rb')\n",
    "pdf=pypdf.PdfFileReader(pdfobject)\n",
    "text = pdf.getFormTextFields()\n",
    "a = pd.DataFrame.from_records(text, index=[0])\n",
    "a = a.iloc[0:0]"
   ]
  },
  {
   "cell_type": "code",
   "execution_count": 85,
   "metadata": {},
   "outputs": [
    {
     "data": {
      "text/html": [
       "<div>\n",
       "<style scoped>\n",
       "    .dataframe tbody tr th:only-of-type {\n",
       "        vertical-align: middle;\n",
       "    }\n",
       "\n",
       "    .dataframe tbody tr th {\n",
       "        vertical-align: top;\n",
       "    }\n",
       "\n",
       "    .dataframe thead th {\n",
       "        text-align: right;\n",
       "    }\n",
       "</style>\n",
       "<table border=\"1\" class=\"dataframe\">\n",
       "  <thead>\n",
       "    <tr style=\"text-align: right;\">\n",
       "      <th></th>\n",
       "      <th>Address</th>\n",
       "      <th>Contact PersonRow1</th>\n",
       "      <th>Health Plan</th>\n",
       "      <th>Patient Name</th>\n",
       "      <th>Requesting Provider Name and NPI</th>\n",
       "      <th>Text1</th>\n",
       "      <th>Text2</th>\n",
       "      <th>Text37</th>\n",
       "      <th>Text38</th>\n",
       "      <th>Text39</th>\n",
       "      <th>...</th>\n",
       "      <th>Text55</th>\n",
       "      <th>Text56</th>\n",
       "      <th>Text57</th>\n",
       "      <th>Text58</th>\n",
       "      <th>Text59</th>\n",
       "      <th>Text65</th>\n",
       "      <th>Text66</th>\n",
       "      <th>Text67</th>\n",
       "      <th>Text73</th>\n",
       "      <th>Text74</th>\n",
       "    </tr>\n",
       "  </thead>\n",
       "  <tbody>\n",
       "  </tbody>\n",
       "</table>\n",
       "<p>0 rows × 31 columns</p>\n",
       "</div>"
      ],
      "text/plain": [
       "Empty DataFrame\n",
       "Columns: [Address, Contact PersonRow1, Health Plan, Patient Name, Requesting Provider Name and NPI, Text1, Text2, Text37, Text38, Text39, Text4, Text40, Text44, Text45, Text46, Text47, Text48, Text49, Text52, Text53, Text54, Text55, Text56, Text57, Text58, Text59, Text65, Text66, Text67, Text73, Text74]\n",
       "Index: []\n",
       "\n",
       "[0 rows x 31 columns]"
      ]
     },
     "execution_count": 85,
     "metadata": {},
     "output_type": "execute_result"
    }
   ],
   "source": [
    "a"
   ]
  },
  {
   "cell_type": "code",
   "execution_count": 44,
   "metadata": {},
   "outputs": [
    {
     "name": "stdout",
     "output_type": "stream",
     "text": [
      "test4.pdf\n"
     ]
    },
    {
     "data": {
      "text/html": [
       "<div>\n",
       "<style scoped>\n",
       "    .dataframe tbody tr th:only-of-type {\n",
       "        vertical-align: middle;\n",
       "    }\n",
       "\n",
       "    .dataframe tbody tr th {\n",
       "        vertical-align: top;\n",
       "    }\n",
       "\n",
       "    .dataframe thead th {\n",
       "        text-align: right;\n",
       "    }\n",
       "</style>\n",
       "<table border=\"1\" class=\"dataframe\">\n",
       "  <thead>\n",
       "    <tr style=\"text-align: right;\">\n",
       "      <th></th>\n",
       "      <th>Address</th>\n",
       "      <th>Contact PersonRow1</th>\n",
       "      <th>Health Plan</th>\n",
       "      <th>Patient Name</th>\n",
       "      <th>Requesting Provider Name and NPI</th>\n",
       "      <th>Text1</th>\n",
       "      <th>Text2</th>\n",
       "      <th>Text37</th>\n",
       "      <th>Text38</th>\n",
       "      <th>Text39</th>\n",
       "      <th>...</th>\n",
       "      <th>Text55</th>\n",
       "      <th>Text56</th>\n",
       "      <th>Text57</th>\n",
       "      <th>Text58</th>\n",
       "      <th>Text59</th>\n",
       "      <th>Text65</th>\n",
       "      <th>Text66</th>\n",
       "      <th>Text67</th>\n",
       "      <th>Text73</th>\n",
       "      <th>Text74</th>\n",
       "    </tr>\n",
       "  </thead>\n",
       "  <tbody>\n",
       "    <tr>\n",
       "      <th>0</th>\n",
       "      <td>None</td>\n",
       "      <td>None</td>\n",
       "      <td>Commonwealth Care Alliance</td>\n",
       "      <td>None</td>\n",
       "      <td>sdfdsf</td>\n",
       "      <td>855-341-0720</td>\n",
       "      <td>10/10/2020</td>\n",
       "      <td>sdfsdf</td>\n",
       "      <td>dsfsdf</td>\n",
       "      <td>sdfsdf</td>\n",
       "      <td>...</td>\n",
       "      <td>None</td>\n",
       "      <td>None</td>\n",
       "      <td>None</td>\n",
       "      <td>None</td>\n",
       "      <td>None</td>\n",
       "      <td>None</td>\n",
       "      <td>None</td>\n",
       "      <td>None</td>\n",
       "      <td>None</td>\n",
       "      <td>None</td>\n",
       "    </tr>\n",
       "    <tr>\n",
       "      <th>1</th>\n",
       "      <td>None</td>\n",
       "      <td>None</td>\n",
       "      <td>Commonwealth Care Alliance</td>\n",
       "      <td>None</td>\n",
       "      <td>sdfdsf</td>\n",
       "      <td>855-341-0720</td>\n",
       "      <td>10/10/2020</td>\n",
       "      <td>sdfsdf</td>\n",
       "      <td>dsfsdf</td>\n",
       "      <td>sdfsdf</td>\n",
       "      <td>...</td>\n",
       "      <td>None</td>\n",
       "      <td>None</td>\n",
       "      <td>None</td>\n",
       "      <td>None</td>\n",
       "      <td>None</td>\n",
       "      <td>None</td>\n",
       "      <td>None</td>\n",
       "      <td>None</td>\n",
       "      <td>None</td>\n",
       "      <td>None</td>\n",
       "    </tr>\n",
       "  </tbody>\n",
       "</table>\n",
       "<p>2 rows × 31 columns</p>\n",
       "</div>"
      ],
      "text/plain": [
       "  Address Contact PersonRow1                 Health Plan Patient Name  \\\n",
       "0    None               None  Commonwealth Care Alliance         None   \n",
       "1    None               None  Commonwealth Care Alliance         None   \n",
       "\n",
       "  Requesting Provider Name and NPI         Text1       Text2  Text37  Text38  \\\n",
       "0                           sdfdsf  855-341-0720  10/10/2020  sdfsdf  dsfsdf   \n",
       "1                           sdfdsf  855-341-0720  10/10/2020  sdfsdf  dsfsdf   \n",
       "\n",
       "   Text39  ... Text55 Text56 Text57 Text58 Text59 Text65 Text66 Text67 Text73  \\\n",
       "0  sdfsdf  ...   None   None   None   None   None   None   None   None   None   \n",
       "1  sdfsdf  ...   None   None   None   None   None   None   None   None   None   \n",
       "\n",
       "  Text74  \n",
       "0   None  \n",
       "1   None  \n",
       "\n",
       "[2 rows x 31 columns]"
      ]
     },
     "execution_count": 44,
     "metadata": {},
     "output_type": "execute_result"
    }
   ],
   "source": [
    "pdf_to_record()"
   ]
  },
  {
   "cell_type": "code",
   "execution_count": 31,
   "metadata": {},
   "outputs": [
    {
     "name": "stdout",
     "output_type": "stream",
     "text": [
      "Enter Filename :a\n"
     ]
    }
   ],
   "source": [
    "filename = input(\"Enter Filename :\")"
   ]
  },
  {
   "cell_type": "code",
   "execution_count": 35,
   "metadata": {},
   "outputs": [
    {
     "data": {
      "text/plain": [
       "str"
      ]
     },
     "execution_count": 35,
     "metadata": {},
     "output_type": "execute_result"
    }
   ],
   "source": [
    "type(filename)"
   ]
  },
  {
   "cell_type": "code",
   "execution_count": null,
   "metadata": {},
   "outputs": [],
   "source": []
  },
  {
   "cell_type": "code",
   "execution_count": 78,
   "metadata": {},
   "outputs": [
    {
     "data": {
      "text/plain": [
       "['invoice.pdf',\n",
       " 'PA-Standardized-Request-Form-11-2016-Split.pdf',\n",
       " 'PA-Standardized-Request-Form-11-2016.pdf',\n",
       " 'test.pdf',\n",
       " 'test1.pdf',\n",
       " 'test2.pdf',\n",
       " 'test3.pdf',\n",
       " 'test4.pdf']"
      ]
     },
     "execution_count": 78,
     "metadata": {},
     "output_type": "execute_result"
    }
   ],
   "source": [
    "import os\n",
    "file_list = []\n",
    "for filename in os.listdir(directory):\n",
    "    if filename.endswith(\".pdf\") :\n",
    "        file_list.append(os.path.join(directory, filename))\n",
    "#         file_list = [i.split('/')[1] for i in file_list]\n",
    "#         print(os.path.join(directory, filename))\n",
    "        continue\n",
    "    else:\n",
    "        continue\n",
    "li = [elem.split('/') for elem in file_list]\n",
    "unimportant, files =[], []\n",
    "for element in li:\n",
    "    unimportant.append(element[0])\n",
    "    files.append(element[1])\n",
    "files    "
   ]
  },
  {
   "cell_type": "code",
   "execution_count": 16,
   "metadata": {},
   "outputs": [],
   "source": [
    "directory = './'"
   ]
  },
  {
   "cell_type": "code",
   "execution_count": 6,
   "metadata": {},
   "outputs": [],
   "source": [
    "root_dir = './'"
   ]
  },
  {
   "cell_type": "code",
   "execution_count": 71,
   "metadata": {},
   "outputs": [],
   "source": [
    "import glob\n",
    "\n",
    "for filepath in glob.iglob('./pdf'):\n",
    "    print(filepath)"
   ]
  },
  {
   "cell_type": "code",
   "execution_count": 72,
   "metadata": {},
   "outputs": [
    {
     "data": {
      "text/plain": [
       "['./invoice.pdf',\n",
       " './PA-Standardized-Request-Form-11-2016-Split.pdf',\n",
       " './PA-Standardized-Request-Form-11-2016.pdf',\n",
       " './test.pdf',\n",
       " './test1.pdf',\n",
       " './test2.pdf',\n",
       " './test3.pdf',\n",
       " './test4.pdf']"
      ]
     },
     "execution_count": 72,
     "metadata": {},
     "output_type": "execute_result"
    }
   ],
   "source": [
    "file_list"
   ]
  },
  {
   "cell_type": "code",
   "execution_count": 53,
   "metadata": {},
   "outputs": [
    {
     "ename": "AttributeError",
     "evalue": "'list' object has no attribute 'split'",
     "output_type": "error",
     "traceback": [
      "\u001b[1;31m---------------------------------------------------------------------------\u001b[0m",
      "\u001b[1;31mAttributeError\u001b[0m                            Traceback (most recent call last)",
      "\u001b[1;32m<ipython-input-53-86e75e9689fe>\u001b[0m in \u001b[0;36m<module>\u001b[1;34m\u001b[0m\n\u001b[1;32m----> 1\u001b[1;33m \u001b[0msplitElements\u001b[0m \u001b[1;33m=\u001b[0m \u001b[0mfile_list\u001b[0m\u001b[1;33m.\u001b[0m\u001b[0msplit\u001b[0m\u001b[1;33m(\u001b[0m\u001b[1;34m'/'\u001b[0m\u001b[1;33m)\u001b[0m\u001b[1;33m\u001b[0m\u001b[1;33m\u001b[0m\u001b[0m\n\u001b[0m",
      "\u001b[1;31mAttributeError\u001b[0m: 'list' object has no attribute 'split'"
     ]
    }
   ],
   "source": [
    "\n",
    "splitElements = file_list.split('/')"
   ]
  },
  {
   "cell_type": "code",
   "execution_count": 50,
   "metadata": {},
   "outputs": [
    {
     "data": {
      "text/plain": [
       "['', '', '', '', '', '', '', '']"
      ]
     },
     "execution_count": 50,
     "metadata": {},
     "output_type": "execute_result"
    }
   ],
   "source": [
    "file_list"
   ]
  },
  {
   "cell_type": "code",
   "execution_count": null,
   "metadata": {},
   "outputs": [],
   "source": []
  },
  {
   "cell_type": "code",
   "execution_count": 68,
   "metadata": {},
   "outputs": [
    {
     "name": "stdout",
     "output_type": "stream",
     "text": [
      "['.', 'invoice.pdf']\n",
      "['.', 'PA-Standardized-Request-Form-11-2016-Split.pdf']\n",
      "['.', 'PA-Standardized-Request-Form-11-2016.pdf']\n",
      "['.', 'test.pdf']\n",
      "['.', 'test1.pdf']\n",
      "['.', 'test2.pdf']\n",
      "['.', 'test3.pdf']\n",
      "['.', 'test4.pdf']\n"
     ]
    }
   ],
   "source": [
    "for element in file_list:\n",
    "    parts = element.split('/')\n",
    "    print(parts)\n",
    "   "
   ]
  },
  {
   "cell_type": "code",
   "execution_count": 58,
   "metadata": {},
   "outputs": [
    {
     "data": {
      "text/plain": [
       "[['.', 'test4.pdf']]"
      ]
     },
     "execution_count": 58,
     "metadata": {},
     "output_type": "execute_result"
    }
   ],
   "source": []
  },
  {
   "cell_type": "code",
   "execution_count": null,
   "metadata": {},
   "outputs": [],
   "source": [
    "file_list"
   ]
  },
  {
   "cell_type": "code",
   "execution_count": 75,
   "metadata": {},
   "outputs": [],
   "source": [
    "li = [elem.split('/') for elem in file_list]\n",
    "unimportant, files =[], []\n",
    "for element in li:\n",
    "    unimportant.append(element[0])\n",
    "    files.append(element[1])"
   ]
  },
  {
   "cell_type": "code",
   "execution_count": 76,
   "metadata": {},
   "outputs": [
    {
     "data": {
      "text/plain": [
       "['invoice.pdf',\n",
       " 'PA-Standardized-Request-Form-11-2016-Split.pdf',\n",
       " 'PA-Standardized-Request-Form-11-2016.pdf',\n",
       " 'test.pdf',\n",
       " 'test1.pdf',\n",
       " 'test2.pdf',\n",
       " 'test3.pdf',\n",
       " 'test4.pdf']"
      ]
     },
     "execution_count": 76,
     "metadata": {},
     "output_type": "execute_result"
    }
   ],
   "source": [
    "files"
   ]
  },
  {
   "cell_type": "code",
   "execution_count": 67,
   "metadata": {},
   "outputs": [
    {
     "data": {
      "text/plain": [
       "[['.', 'invoice.pdf'],\n",
       " ['.', 'PA-Standardized-Request-Form-11-2016-Split.pdf'],\n",
       " ['.', 'PA-Standardized-Request-Form-11-2016.pdf'],\n",
       " ['.', 'test.pdf'],\n",
       " ['.', 'test1.pdf'],\n",
       " ['.', 'test2.pdf'],\n",
       " ['.', 'test3.pdf'],\n",
       " ['.', 'test4.pdf']]"
      ]
     },
     "execution_count": 67,
     "metadata": {},
     "output_type": "execute_result"
    }
   ],
   "source": [
    "# li = [elem.split('/') for elem in file_list]\n",
    "# li"
   ]
  },
  {
   "cell_type": "code",
   "execution_count": null,
   "metadata": {},
   "outputs": [],
   "source": []
  },
  {
   "cell_type": "code",
   "execution_count": null,
   "metadata": {},
   "outputs": [],
   "source": []
  },
  {
   "cell_type": "code",
   "execution_count": null,
   "metadata": {},
   "outputs": [],
   "source": []
  },
  {
   "cell_type": "code",
   "execution_count": 64,
   "metadata": {},
   "outputs": [
    {
     "name": "stdout",
     "output_type": "stream",
     "text": [
      "[['Belgium,', 'Female,', '18-', '24'], ['Belgium,', 'Male,', '18-24']]\n"
     ]
    }
   ],
   "source": [
    "li = ['\\n                Belgium,                Female,            18- 24           ',\n",
    "      '\\n                Belgium,                Male,              18-24            ']\n",
    "\n",
    "li = [elem.split() for elem in li]\n",
    "print(li)\n",
    "# # [['Belgium,', 'Female,', '18-24'], ['Belgium,', 'Male,', '18-24']]\n",
    "# countries, genders, ages = [], [], []\n",
    "# for elem in li:\n",
    "#     countries.append(elem[0])\n",
    "#     genders.append(elem[1])\n",
    "#     ages.append(elem[2])\n",
    "\n",
    "# print(countries)\n",
    "# print(genders)\n",
    "# print(ages)\n",
    "# # ['Belgium,', 'Belgium,']\n",
    "# # ['Female,', 'Male,']\n",
    "# # ['18-24', '18-24']"
   ]
  },
  {
   "cell_type": "code",
   "execution_count": null,
   "metadata": {},
   "outputs": [],
   "source": []
  },
  {
   "cell_type": "code",
   "execution_count": null,
   "metadata": {},
   "outputs": [],
   "source": []
  },
  {
   "cell_type": "code",
   "execution_count": null,
   "metadata": {},
   "outputs": [],
   "source": []
  },
  {
   "cell_type": "code",
   "execution_count": null,
   "metadata": {},
   "outputs": [],
   "source": []
  },
  {
   "cell_type": "code",
   "execution_count": null,
   "metadata": {},
   "outputs": [],
   "source": []
  },
  {
   "cell_type": "code",
   "execution_count": 5,
   "metadata": {},
   "outputs": [
    {
     "data": {
      "text/plain": [
       "{'Health Plan': {'/FT': '/Tx',\n",
       "  '/T': 'Health Plan',\n",
       "  '/TU': 'Health Plan:',\n",
       "  '/V': 'Commonwealth Care Alliance'},\n",
       " 'Requesting Provider Name and NPI': {'/FT': '/Tx',\n",
       "  '/T': 'Requesting Provider Name and NPI',\n",
       "  '/TU': 'Requesting Provider Name and NPI',\n",
       "  '/V': 'sdfdsf'},\n",
       " 'Contact PersonRow1': {'/FT': '/Tx',\n",
       "  '/T': 'Contact PersonRow1',\n",
       "  '/TU': '*Contact Person:_Row_1',\n",
       "  '/Ff': 4096},\n",
       " 'Patient Name': {'/FT': '/Tx',\n",
       "  '/T': 'Patient Name',\n",
       "  '/TU': '*Patient Name:',\n",
       "  '/Ff': 4096},\n",
       " 'Address': {'/FT': '/Tx', '/T': 'Address', '/TU': 'Address:', '/Ff': 4096},\n",
       " 'Text1': {'/FT': '/Tx', '/T': 'Text1', '/V': '855-341-0720'},\n",
       " 'Text2': {'/FT': '/Tx', '/T': 'Text2', '/V': '10/10/2020'},\n",
       " 'Check Box3': {'/FT': '/Btn', '/T': 'Check Box3', '/V': '/Yes'},\n",
       " 'Check Box4': {'/FT': '/Btn', '/T': 'Check Box4'},\n",
       " 'Check Box1': {'/FT': '/Btn', '/T': 'Check Box1'},\n",
       " 'Check Box2': {'/FT': '/Btn', '/T': 'Check Box2'},\n",
       " 'Check Box5': {'/FT': '/Btn', '/T': 'Check Box5', '/V': '/Yes'},\n",
       " 'Check Box6': {'/FT': '/Btn', '/T': 'Check Box6'},\n",
       " 'Check Box7': {'/FT': '/Btn', '/T': 'Check Box7'},\n",
       " 'Check Box8': {'/FT': '/Btn', '/T': 'Check Box8'},\n",
       " 'Check Box9': {'/FT': '/Btn', '/T': 'Check Box9', '/V': '/Yes'},\n",
       " 'Check Box10': {'/FT': '/Btn', '/T': 'Check Box10'},\n",
       " 'Check Box11': {'/FT': '/Btn', '/T': 'Check Box11'},\n",
       " 'Check Box12': {'/FT': '/Btn', '/T': 'Check Box12'},\n",
       " 'Check Box13': {'/FT': '/Btn', '/T': 'Check Box13'},\n",
       " 'Check Box14': {'/FT': '/Btn', '/T': 'Check Box14', '/V': '/Yes'},\n",
       " 'Check Box15': {'/FT': '/Btn', '/T': 'Check Box15'},\n",
       " 'Check Box16': {'/FT': '/Btn', '/T': 'Check Box16'},\n",
       " 'Check Box17': {'/FT': '/Btn', '/T': 'Check Box17'},\n",
       " 'Check Box18': {'/FT': '/Btn', '/T': 'Check Box18'},\n",
       " 'Check Box19': {'/FT': '/Btn', '/T': 'Check Box19'},\n",
       " 'Check Box20': {'/FT': '/Btn', '/T': 'Check Box20'},\n",
       " 'Check Box21': {'/FT': '/Btn', '/T': 'Check Box21'},\n",
       " 'Check Box22': {'/FT': '/Btn', '/T': 'Check Box22'},\n",
       " 'Check Box23': {'/FT': '/Btn', '/T': 'Check Box23'},\n",
       " 'Check Box24': {'/FT': '/Btn', '/T': 'Check Box24'},\n",
       " 'Check Box25': {'/FT': '/Btn', '/T': 'Check Box25'},\n",
       " 'Check Box26': {'/FT': '/Btn', '/T': 'Check Box26'},\n",
       " 'Check Box27': {'/FT': '/Btn', '/T': 'Check Box27'},\n",
       " 'Check Box28': {'/FT': '/Btn', '/T': 'Check Box28'},\n",
       " 'Check Box29': {'/FT': '/Btn', '/T': 'Check Box29'},\n",
       " 'Check Box30': {'/FT': '/Btn', '/T': 'Check Box30'},\n",
       " 'Check Box31': {'/FT': '/Btn', '/T': 'Check Box31'},\n",
       " 'Check Box33': {'/FT': '/Btn', '/T': 'Check Box33'},\n",
       " 'Check Box34': {'/FT': '/Btn', '/T': 'Check Box34'},\n",
       " 'Check Box35': {'/FT': '/Btn', '/T': 'Check Box35'},\n",
       " 'Check Box36': {'/FT': '/Btn', '/T': 'Check Box36'},\n",
       " 'Text37': {'/FT': '/Tx', '/T': 'Text37', '/Ff': 4096, '/V': 'sdfsdf'},\n",
       " 'Text38': {'/FT': '/Tx', '/T': 'Text38', '/Ff': 4096, '/V': 'dsfsdf'},\n",
       " 'Text39': {'/FT': '/Tx', '/T': 'Text39', '/Ff': 4096, '/V': 'sdfsdf'},\n",
       " 'Text40': {'/FT': '/Tx', '/T': 'Text40', '/Ff': 4096},\n",
       " 'Check Box41': {'/FT': '/Btn', '/T': 'Check Box41'},\n",
       " 'Text4': {'/FT': '/Tx', '/T': 'Text4', '/Ff': 4096},\n",
       " 'Text44': {'/FT': '/Tx', '/T': 'Text44', '/Ff': 4096},\n",
       " 'Text45': {'/FT': '/Tx', '/T': 'Text45', '/Ff': 4096},\n",
       " 'Text46': {'/FT': '/Tx', '/T': 'Text46', '/Ff': 4096},\n",
       " 'Text47': {'/FT': '/Tx', '/T': 'Text47', '/Ff': 4096},\n",
       " 'Text48': {'/FT': '/Tx', '/T': 'Text48', '/Ff': 4096},\n",
       " 'Text49': {'/FT': '/Tx', '/T': 'Text49', '/Ff': 4096},\n",
       " 'Check Box50': {'/FT': '/Btn', '/T': 'Check Box50'},\n",
       " 'Check Box51': {'/FT': '/Btn', '/T': 'Check Box51'},\n",
       " 'Text52': {'/FT': '/Tx', '/T': 'Text52', '/Ff': 4096},\n",
       " 'Text53': {'/FT': '/Tx', '/T': 'Text53'},\n",
       " 'Text54': {'/FT': '/Tx', '/T': 'Text54'},\n",
       " 'Text55': {'/FT': '/Tx', '/T': 'Text55'},\n",
       " 'Text56': {'/FT': '/Tx', '/T': 'Text56'},\n",
       " 'Text57': {'/FT': '/Tx', '/T': 'Text57', '/Ff': 4096},\n",
       " 'Text58': {'/FT': '/Tx', '/T': 'Text58', '/Ff': 4096},\n",
       " 'Text59': {'/FT': '/Tx', '/T': 'Text59'},\n",
       " 'Check Box60': {'/FT': '/Btn', '/T': 'Check Box60'},\n",
       " 'Check Box61': {'/FT': '/Btn', '/T': 'Check Box61'},\n",
       " 'Check Box62': {'/FT': '/Btn', '/T': 'Check Box62'},\n",
       " 'Check Box63': {'/FT': '/Btn', '/T': 'Check Box63'},\n",
       " 'Check Box64': {'/FT': '/Btn', '/T': 'Check Box64'},\n",
       " 'Text65': {'/FT': '/Tx', '/T': 'Text65', '/Ff': 4096},\n",
       " 'Text66': {'/FT': '/Tx', '/T': 'Text66', '/Ff': 4096},\n",
       " 'Text67': {'/FT': '/Tx', '/T': 'Text67', '/Ff': 4096},\n",
       " 'Check Box68': {'/FT': '/Btn', '/T': 'Check Box68'},\n",
       " 'Check Box69': {'/FT': '/Btn', '/T': 'Check Box69'},\n",
       " 'Check Box70': {'/FT': '/Btn', '/T': 'Check Box70'},\n",
       " 'Check Box71': {'/FT': '/Btn', '/T': 'Check Box71'},\n",
       " 'Check Box72': {'/FT': '/Btn', '/T': 'Check Box72'},\n",
       " 'Text73': {'/FT': '/Tx', '/T': 'Text73'},\n",
       " 'Text74': {'/FT': '/Tx', '/T': 'Text74'},\n",
       " 'Check Box76': {'/FT': '/Btn', '/T': 'Check Box76'},\n",
       " 'Clear Form': {'/FT': '/Btn', '/T': 'Clear Form', '/Ff': 65536}}"
      ]
     },
     "execution_count": 5,
     "metadata": {},
     "output_type": "execute_result"
    }
   ],
   "source": [
    "pdf.getFields(tree=None, retval=None, fileobj=None)"
   ]
  },
  {
   "cell_type": "code",
   "execution_count": 23,
   "metadata": {},
   "outputs": [],
   "source": [
    "pdfobject1=open('test4.pdf','rb')"
   ]
  },
  {
   "cell_type": "code",
   "execution_count": 24,
   "metadata": {},
   "outputs": [],
   "source": [
    "pdf1=pypdf.PdfFileReader(pdfobject1)"
   ]
  },
  {
   "cell_type": "code",
   "execution_count": 25,
   "metadata": {},
   "outputs": [
    {
     "data": {
      "text/plain": [
       "{'Health Plan': {'/FT': '/Tx',\n",
       "  '/T': 'Health Plan',\n",
       "  '/TU': 'Health Plan:',\n",
       "  '/V': 'Commonwealth Care Alliance'},\n",
       " 'Requesting Provider Name and NPI': {'/FT': '/Tx',\n",
       "  '/T': 'Requesting Provider Name and NPI',\n",
       "  '/TU': 'Requesting Provider Name and NPI',\n",
       "  '/V': 'sdfdsf'},\n",
       " 'Contact PersonRow1': {'/FT': '/Tx',\n",
       "  '/T': 'Contact PersonRow1',\n",
       "  '/TU': '*Contact Person:_Row_1',\n",
       "  '/Ff': 4096},\n",
       " 'Patient Name': {'/FT': '/Tx',\n",
       "  '/T': 'Patient Name',\n",
       "  '/TU': '*Patient Name:',\n",
       "  '/Ff': 4096},\n",
       " 'Address': {'/FT': '/Tx', '/T': 'Address', '/TU': 'Address:', '/Ff': 4096},\n",
       " 'Text1': {'/FT': '/Tx', '/T': 'Text1', '/V': '855-341-0720'},\n",
       " 'Text2': {'/FT': '/Tx', '/T': 'Text2', '/V': '10/10/2020'},\n",
       " 'Check Box3': {'/FT': '/Btn', '/T': 'Check Box3', '/V': '/Yes'},\n",
       " 'Check Box4': {'/FT': '/Btn', '/T': 'Check Box4'},\n",
       " 'Check Box1': {'/FT': '/Btn', '/T': 'Check Box1'},\n",
       " 'Check Box2': {'/FT': '/Btn', '/T': 'Check Box2', '/V': '/Yes'},\n",
       " 'Check Box5': {'/FT': '/Btn', '/T': 'Check Box5'},\n",
       " 'Check Box6': {'/FT': '/Btn', '/T': 'Check Box6'},\n",
       " 'Check Box7': {'/FT': '/Btn', '/T': 'Check Box7'},\n",
       " 'Check Box8': {'/FT': '/Btn', '/T': 'Check Box8'},\n",
       " 'Check Box9': {'/FT': '/Btn', '/T': 'Check Box9'},\n",
       " 'Check Box10': {'/FT': '/Btn', '/T': 'Check Box10'},\n",
       " 'Check Box11': {'/FT': '/Btn', '/T': 'Check Box11'},\n",
       " 'Check Box12': {'/FT': '/Btn', '/T': 'Check Box12'},\n",
       " 'Check Box13': {'/FT': '/Btn', '/T': 'Check Box13'},\n",
       " 'Check Box14': {'/FT': '/Btn', '/T': 'Check Box14'},\n",
       " 'Check Box15': {'/FT': '/Btn', '/T': 'Check Box15'},\n",
       " 'Check Box16': {'/FT': '/Btn', '/T': 'Check Box16'},\n",
       " 'Check Box17': {'/FT': '/Btn', '/T': 'Check Box17'},\n",
       " 'Check Box18': {'/FT': '/Btn', '/T': 'Check Box18'},\n",
       " 'Check Box19': {'/FT': '/Btn', '/T': 'Check Box19'},\n",
       " 'Check Box20': {'/FT': '/Btn', '/T': 'Check Box20'},\n",
       " 'Check Box21': {'/FT': '/Btn', '/T': 'Check Box21'},\n",
       " 'Check Box22': {'/FT': '/Btn', '/T': 'Check Box22'},\n",
       " 'Check Box23': {'/FT': '/Btn', '/T': 'Check Box23'},\n",
       " 'Check Box24': {'/FT': '/Btn', '/T': 'Check Box24'},\n",
       " 'Check Box25': {'/FT': '/Btn', '/T': 'Check Box25'},\n",
       " 'Check Box26': {'/FT': '/Btn', '/T': 'Check Box26'},\n",
       " 'Check Box27': {'/FT': '/Btn', '/T': 'Check Box27'},\n",
       " 'Check Box28': {'/FT': '/Btn', '/T': 'Check Box28'},\n",
       " 'Check Box29': {'/FT': '/Btn', '/T': 'Check Box29'},\n",
       " 'Check Box30': {'/FT': '/Btn', '/T': 'Check Box30'},\n",
       " 'Check Box31': {'/FT': '/Btn', '/T': 'Check Box31'},\n",
       " 'Check Box33': {'/FT': '/Btn', '/T': 'Check Box33'},\n",
       " 'Check Box34': {'/FT': '/Btn', '/T': 'Check Box34'},\n",
       " 'Check Box35': {'/FT': '/Btn', '/T': 'Check Box35'},\n",
       " 'Check Box36': {'/FT': '/Btn', '/T': 'Check Box36'},\n",
       " 'Text37': {'/FT': '/Tx', '/T': 'Text37', '/Ff': 4096, '/V': 'sdfsdf'},\n",
       " 'Text38': {'/FT': '/Tx', '/T': 'Text38', '/Ff': 4096, '/V': 'dsfsdf'},\n",
       " 'Text39': {'/FT': '/Tx', '/T': 'Text39', '/Ff': 4096, '/V': 'sdfsdf'},\n",
       " 'Text40': {'/FT': '/Tx', '/T': 'Text40', '/Ff': 4096},\n",
       " 'Check Box41': {'/FT': '/Btn', '/T': 'Check Box41'},\n",
       " 'Text4': {'/FT': '/Tx', '/T': 'Text4', '/Ff': 4096},\n",
       " 'Text44': {'/FT': '/Tx', '/T': 'Text44', '/Ff': 4096},\n",
       " 'Text45': {'/FT': '/Tx', '/T': 'Text45', '/Ff': 4096},\n",
       " 'Text46': {'/FT': '/Tx', '/T': 'Text46', '/Ff': 4096},\n",
       " 'Text47': {'/FT': '/Tx', '/T': 'Text47', '/Ff': 4096},\n",
       " 'Text48': {'/FT': '/Tx', '/T': 'Text48', '/Ff': 4096},\n",
       " 'Text49': {'/FT': '/Tx', '/T': 'Text49', '/Ff': 4096},\n",
       " 'Check Box50': {'/FT': '/Btn', '/T': 'Check Box50'},\n",
       " 'Check Box51': {'/FT': '/Btn', '/T': 'Check Box51'},\n",
       " 'Text52': {'/FT': '/Tx', '/T': 'Text52', '/Ff': 4096},\n",
       " 'Text53': {'/FT': '/Tx', '/T': 'Text53'},\n",
       " 'Text54': {'/FT': '/Tx', '/T': 'Text54'},\n",
       " 'Text55': {'/FT': '/Tx', '/T': 'Text55'},\n",
       " 'Text56': {'/FT': '/Tx', '/T': 'Text56'},\n",
       " 'Text57': {'/FT': '/Tx', '/T': 'Text57', '/Ff': 4096},\n",
       " 'Text58': {'/FT': '/Tx', '/T': 'Text58', '/Ff': 4096},\n",
       " 'Text59': {'/FT': '/Tx', '/T': 'Text59'},\n",
       " 'Check Box60': {'/FT': '/Btn', '/T': 'Check Box60'},\n",
       " 'Check Box61': {'/FT': '/Btn', '/T': 'Check Box61'},\n",
       " 'Check Box62': {'/FT': '/Btn', '/T': 'Check Box62'},\n",
       " 'Check Box63': {'/FT': '/Btn', '/T': 'Check Box63'},\n",
       " 'Check Box64': {'/FT': '/Btn', '/T': 'Check Box64'},\n",
       " 'Text65': {'/FT': '/Tx', '/T': 'Text65', '/Ff': 4096},\n",
       " 'Text66': {'/FT': '/Tx', '/T': 'Text66', '/Ff': 4096},\n",
       " 'Text67': {'/FT': '/Tx', '/T': 'Text67', '/Ff': 4096},\n",
       " 'Check Box68': {'/FT': '/Btn', '/T': 'Check Box68'},\n",
       " 'Check Box69': {'/FT': '/Btn', '/T': 'Check Box69'},\n",
       " 'Check Box70': {'/FT': '/Btn', '/T': 'Check Box70'},\n",
       " 'Check Box71': {'/FT': '/Btn', '/T': 'Check Box71'},\n",
       " 'Check Box72': {'/FT': '/Btn', '/T': 'Check Box72'},\n",
       " 'Text73': {'/FT': '/Tx', '/T': 'Text73'},\n",
       " 'Text74': {'/FT': '/Tx', '/T': 'Text74'},\n",
       " 'Check Box76': {'/FT': '/Btn', '/T': 'Check Box76'},\n",
       " 'Clear Form': {'/FT': '/Btn', '/T': 'Clear Form', '/Ff': 65536}}"
      ]
     },
     "execution_count": 25,
     "metadata": {},
     "output_type": "execute_result"
    }
   ],
   "source": [
    "pdf1.getFields(tree=None, retval=None, fileobj=None)"
   ]
  },
  {
   "cell_type": "code",
   "execution_count": null,
   "metadata": {},
   "outputs": [],
   "source": []
  }
 ],
 "metadata": {
  "kernelspec": {
   "display_name": "Python 3",
   "language": "python",
   "name": "python3"
  },
  "language_info": {
   "codemirror_mode": {
    "name": "ipython",
    "version": 3
   },
   "file_extension": ".py",
   "mimetype": "text/x-python",
   "name": "python",
   "nbconvert_exporter": "python",
   "pygments_lexer": "ipython3",
   "version": "3.6.12"
  }
 },
 "nbformat": 4,
 "nbformat_minor": 4
}
