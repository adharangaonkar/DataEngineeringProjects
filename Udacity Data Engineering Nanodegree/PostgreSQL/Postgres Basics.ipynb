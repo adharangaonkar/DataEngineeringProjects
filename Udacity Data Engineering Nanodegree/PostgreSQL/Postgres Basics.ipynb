{
 "cells": [
  {
   "cell_type": "code",
   "execution_count": 23,
   "id": "5a92141e",
   "metadata": {},
   "outputs": [],
   "source": [
    "import psycopg2"
   ]
  },
  {
   "cell_type": "code",
   "execution_count": 6,
   "id": "6b95d803",
   "metadata": {},
   "outputs": [
    {
     "name": "stdout",
     "output_type": "stream",
     "text": [
      "Database Connection Successful\n"
     ]
    }
   ],
   "source": [
    "\n",
    "try:\n",
    "    conn = psycopg2.connect(\"dbname=demodb user=postgres password=password\")\n",
    "    print(\"Database Connection Successful\")\n",
    "except psycopg2.Error as e:\n",
    "    print(\"Error: Could not make connection to the Database\")"
   ]
  },
  {
   "cell_type": "code",
   "execution_count": 7,
   "id": "57c2c16d",
   "metadata": {},
   "outputs": [],
   "source": [
    "try:\n",
    "    cur = conn.cursor()\n",
    "except psycopg2.Error as e:\n",
    "    print(\"Error: Could not get the cursor to the Database\")"
   ]
  },
  {
   "cell_type": "code",
   "execution_count": 8,
   "id": "a2a6e645",
   "metadata": {},
   "outputs": [],
   "source": [
    "conn.set_session(autocommit = True)"
   ]
  },
  {
   "cell_type": "code",
   "execution_count": 9,
   "id": "487bf622",
   "metadata": {},
   "outputs": [],
   "source": [
    "# Lets create a database to work in"
   ]
  },
  {
   "cell_type": "code",
   "execution_count": 24,
   "id": "89665a59",
   "metadata": {},
   "outputs": [
    {
     "name": "stdout",
     "output_type": "stream",
     "text": [
      "database \"udacity\" already exists\n",
      "\n"
     ]
    }
   ],
   "source": [
    "try:\n",
    "    cur.execute(\"create database udacity\")\n",
    "except psycopg2.Error as e:\n",
    "    print(e)"
   ]
  },
  {
   "cell_type": "code",
   "execution_count": 25,
   "id": "86d92863",
   "metadata": {},
   "outputs": [],
   "source": [
    "# lets close our connection to the default database, reconnect to the Udacity database, and get a new cursor"
   ]
  },
  {
   "cell_type": "code",
   "execution_count": 26,
   "id": "58befb90",
   "metadata": {},
   "outputs": [],
   "source": [
    "try:\n",
    "    conn.close()\n",
    "except psycopg2.Error as e:\n",
    "    print(e)\n",
    "    \n",
    "try:\n",
    "    conn = psycopg2.connect(\"dbname=udacity user=postgres password=password\")\n",
    "except psycopg2.Error as e:\n",
    "    print(\"Error: Could not make connection to the Postgres database\")\n",
    "    print(e)\n",
    "    \n",
    "try:\n",
    "    cur = conn.cursor()\n",
    "except psycopg2.Error as e:\n",
    "    print(\"Error: Could not get cursor to the Database\")\n",
    "    print(e)\n",
    "conn.set_session(autocommit = True)    "
   ]
  },
  {
   "cell_type": "code",
   "execution_count": 14,
   "id": "a4de6c98",
   "metadata": {},
   "outputs": [],
   "source": [
    "# Create Table"
   ]
  },
  {
   "cell_type": "code",
   "execution_count": 16,
   "id": "a064dccc",
   "metadata": {},
   "outputs": [],
   "source": [
    "try:\n",
    "    cur.execute(\"CREATE TABLE IF NOT EXISTS music_library (album_name varchar, artist_name varchar, year int)\")\n",
    "except psycopg2.Error as e:\n",
    "    print(\"Error: Issue creating Table\")\n",
    "    print(e)"
   ]
  },
  {
   "cell_type": "code",
   "execution_count": 17,
   "id": "ab97586b",
   "metadata": {},
   "outputs": [],
   "source": [
    "# Looking at the Data"
   ]
  },
  {
   "cell_type": "code",
   "execution_count": 27,
   "id": "1aa9d04f",
   "metadata": {},
   "outputs": [
    {
     "name": "stdout",
     "output_type": "stream",
     "text": [
      "[(2,)]\n"
     ]
    }
   ],
   "source": [
    "try:\n",
    "    cur.execute(\"select count(*) from music_library\")\n",
    "except psycopg2.Error as e:\n",
    "    print(\"Error: Issue creating Table\")\n",
    "    print(e)\n",
    "\n",
    "print(cur.fetchall())"
   ]
  },
  {
   "cell_type": "code",
   "execution_count": 19,
   "id": "5053d79d",
   "metadata": {},
   "outputs": [],
   "source": [
    "# lets insert two rows"
   ]
  },
  {
   "cell_type": "code",
   "execution_count": 21,
   "id": "d878bc63",
   "metadata": {},
   "outputs": [],
   "source": [
    "try:\n",
    "    cur.execute(\"INSERT INTO music_library (album_name , artist_name , year ) \\\n",
    "    VALUES (%s, %s, %s)\",\\\n",
    "    (\"Let it be\", \"The Beatles\", 1970))\n",
    "except psycopg2.Error as e:\n",
    "    print(\"Error: Inserting Rows\")\n",
    "    print(e)\n",
    "    \n",
    "try:\n",
    "    cur.execute(\"INSERT INTO music_library (album_name , artist_name , year ) \\\n",
    "    VALUES (%s, %s, %s)\",\\\n",
    "    (\"Rubber Soul\", \"The Beatles\", 1965))\n",
    "except psycopg2.Error as e:\n",
    "    print(\"Error: Inserting Rows\")\n",
    "    print(e)    "
   ]
  },
  {
   "cell_type": "code",
   "execution_count": 20,
   "id": "7aab9042",
   "metadata": {},
   "outputs": [],
   "source": [
    "# Validate the data"
   ]
  },
  {
   "cell_type": "code",
   "execution_count": 28,
   "id": "e3175e1f",
   "metadata": {},
   "outputs": [
    {
     "name": "stdout",
     "output_type": "stream",
     "text": [
      "('Let it be', 'The Beatles', 1970)\n",
      "('Rubber Soul', 'The Beatles', 1965)\n"
     ]
    }
   ],
   "source": [
    "try:\n",
    "    cur.execute(\"select * from music_library\")\n",
    "except psycopg2.Error as e:\n",
    "    print(\"Error: select *\")\n",
    "    print(e)\n",
    "\n",
    "row = cur.fetchone()\n",
    "while row:\n",
    "    print(row)\n",
    "    row = cur.fetchone()"
   ]
  },
  {
   "cell_type": "code",
   "execution_count": 29,
   "id": "40c503d7",
   "metadata": {},
   "outputs": [],
   "source": [
    "# Dropping a table"
   ]
  },
  {
   "cell_type": "code",
   "execution_count": 30,
   "id": "7b59f782",
   "metadata": {},
   "outputs": [],
   "source": [
    "try:\n",
    "    cur.execute(\"DROP table music_library\")\n",
    "except psycopg2.Error as e:\n",
    "    print(\"Error: Dropping table\")\n",
    "    print(e)"
   ]
  },
  {
   "cell_type": "code",
   "execution_count": 31,
   "id": "e1c7db92",
   "metadata": {},
   "outputs": [],
   "source": [
    "# Closing the cursor and the connection"
   ]
  },
  {
   "cell_type": "code",
   "execution_count": 32,
   "id": "65f40eda",
   "metadata": {},
   "outputs": [],
   "source": [
    "cur.close()\n",
    "conn.close()"
   ]
  },
  {
   "cell_type": "code",
   "execution_count": null,
   "id": "6a1325f6",
   "metadata": {},
   "outputs": [],
   "source": []
  }
 ],
 "metadata": {
  "kernelspec": {
   "display_name": "data_engg",
   "language": "python",
   "name": "data_engg"
  },
  "language_info": {
   "codemirror_mode": {
    "name": "ipython",
    "version": 3
   },
   "file_extension": ".py",
   "mimetype": "text/x-python",
   "name": "python",
   "nbconvert_exporter": "python",
   "pygments_lexer": "ipython3",
   "version": "3.9.5"
  }
 },
 "nbformat": 4,
 "nbformat_minor": 5
}
