{
 "cells": [
  {
   "cell_type": "code",
   "execution_count": 1,
   "id": "da88ff00",
   "metadata": {},
   "outputs": [],
   "source": [
    "import psycopg2"
   ]
  },
  {
   "cell_type": "code",
   "execution_count": 2,
   "id": "9319a616",
   "metadata": {},
   "outputs": [],
   "source": [
    "try:\n",
    "    conn = psycopg2.connect(\"dbname = udacity user=postgres password=password\")\n",
    "except psycopg2.Error as e:\n",
    "    print(\"Error: Could not make connection to the Database\")\n",
    "    print(e)\n",
    "    \n",
    "try:\n",
    "    cur = conn.cursor()\n",
    "except psycopg2.Error as e:\n",
    "    print(\"Error: Could not get the cursor to the Database\")\n",
    "    \n",
    "conn.set_session(autocommit = True)    "
   ]
  },
  {
   "cell_type": "code",
   "execution_count": 3,
   "id": "8a052391",
   "metadata": {},
   "outputs": [],
   "source": [
    "# Fact Table"
   ]
  },
  {
   "cell_type": "code",
   "execution_count": 4,
   "id": "4f50a9fe",
   "metadata": {},
   "outputs": [],
   "source": [
    "try:\n",
    "    cur.execute(\"CREATE TABLE IF NOT EXISTS customer_transactions (customer_id int, store_id int, spent numeric);\")\n",
    "except psycopg2.Error as e:\n",
    "    print(\"Error: Issue Creating the table\") \n",
    "    print(e)\n",
    "\n",
    "########### INSERT ##############\n",
    "\n",
    "try:\n",
    "    cur.execute(\"INSERT INTO customer_transactions (customer_id , store_id , spent) \\\n",
    "    VALUES (%s, %s, %s)\", \\\n",
    "               (1, 1, 20.50))\n",
    "except psycopg2.Error as e:\n",
    "    print(\"Error: Inserting Rows\")\n",
    "    print(e)\n",
    "                \n",
    "try:\n",
    "    cur.execute(\"INSERT INTO customer_transactions (customer_id , store_id , spent) \\\n",
    "    VALUES (%s, %s, %s)\", \\\n",
    "               (2, 1, 35.21))\n",
    "except psycopg2.Error as e:\n",
    "    print(\"Error: Inserting Rows\")\n",
    "    print(e)     "
   ]
  },
  {
   "cell_type": "code",
   "execution_count": 5,
   "id": "c5f63374",
   "metadata": {},
   "outputs": [
    {
     "name": "stdout",
     "output_type": "stream",
     "text": [
      "(1, 1, Decimal('20.5'))\n",
      "(2, 1, Decimal('35.21'))\n"
     ]
    }
   ],
   "source": [
    "try:\n",
    "    cur.execute(\"SELECT * FROM customer_transactions\")                                                          \n",
    "except psycopg2.Error as e:\n",
    "    print(\"Error: select *\")    \n",
    "    print(e)                  \n",
    "                                                      \n",
    "row = cur.fetchone()\n",
    "while row:\n",
    "    print(row)\n",
    "    row = cur.fetchone()   "
   ]
  },
  {
   "cell_type": "code",
   "execution_count": 6,
   "id": "b31f8581",
   "metadata": {},
   "outputs": [],
   "source": [
    "# Dimension Table"
   ]
  },
  {
   "cell_type": "code",
   "execution_count": 8,
   "id": "478b191d",
   "metadata": {},
   "outputs": [],
   "source": [
    "try:\n",
    "    cur.execute(\"CREATE TABLE IF NOT EXISTS items_purchased (customer_id int, item_number int, item_name varchar);\")\n",
    "except psycopg2.Error as e:\n",
    "    print(\"Error: Issue Creating the table\") \n",
    "    print(e)\n",
    "                \n",
    "try:\n",
    "    cur.execute(\"INSERT INTO items_purchased (customer_id , item_number , item_name ) \\\n",
    "    VALUES (%s, %s, %s)\", \\\n",
    "               (1, 1, \"Rubber Soul\"))   \n",
    "except psycopg2.Error as e:\n",
    "    print(\"Error: Inserting Rows\")\n",
    "    print(e)\n",
    "    \n",
    "try:\n",
    "    cur.execute(\"INSERT INTO items_purchased (customer_id , item_number , item_name ) \\\n",
    "    VALUES (%s, %s, %s)\", \\\n",
    "               (2, 3, \"Let It Be\"))   \n",
    "except psycopg2.Error as e:\n",
    "    print(\"Error: Inserting Rows\")\n",
    "    print(e)     \n",
    "    \n",
    "#########################################\n",
    "\n",
    "try:\n",
    "    cur.execute(\"CREATE TABLE IF NOT EXISTS store (store_id int, state varchar);\")\n",
    "except psycopg2.Error as e:\n",
    "    print(\"Error: Issue Creating the table\") \n",
    "    print(e)\n",
    "\n",
    "try:\n",
    "    cur.execute(\"INSERT INTO store (store_id, state) \\\n",
    "    VALUES (%s, %s)\", \\\n",
    "               (1,\"CA\"))   \n",
    "except psycopg2.Error as e:\n",
    "    print(\"Error: Inserting Rows\")\n",
    "    print(e)    \n",
    "    \n",
    "try:\n",
    "    cur.execute(\"INSERT INTO store (store_id, state) \\\n",
    "    VALUES (%s, %s)\", \\\n",
    "               (2,\"WA\"))   \n",
    "except psycopg2.Error as e:\n",
    "    print(\"Error: Inserting Rows\")\n",
    "    print(e)      \n",
    "\n",
    "########################################\n",
    "\n",
    "try:\n",
    "    cur.execute(\"CREATE TABLE IF NOT EXISTS customer (customer_id int, name varchar, rewards boolean);\")\n",
    "except psycopg2.Error as e:\n",
    "    print(\"Error: Issue Creating the table\") \n",
    "    print(e)\n",
    "    \n",
    "try:\n",
    "    cur.execute(\"INSERT INTO customer (customer_id , name , rewards ) \\\n",
    "    VALUES (%s, %s, %s)\", \\\n",
    "               (1, \"Amanda\", True))   \n",
    "except psycopg2.Error as e:\n",
    "    print(\"Error: Inserting Rows\")\n",
    "    print(e) \n",
    "    \n",
    "try:\n",
    "    cur.execute(\"INSERT INTO customer (customer_id , name , rewards ) \\\n",
    "    VALUES (%s, %s, %s)\", \\\n",
    "               (2, \"Toby\", False))   \n",
    "except psycopg2.Error as e:\n",
    "    print(\"Error: Inserting Rows\")\n",
    "    print(e)     "
   ]
  },
  {
   "cell_type": "code",
   "execution_count": 9,
   "id": "bfde5779",
   "metadata": {},
   "outputs": [
    {
     "name": "stdout",
     "output_type": "stream",
     "text": [
      "(1, 1, 'Rubber Soul')\n",
      "(2, 3, 'Let It Be')\n",
      "-----------------------\n",
      "(1, 'CA')\n",
      "(2, 'WA')\n",
      "(1, 'CA')\n",
      "(2, 'WA')\n",
      "-----------------------\n",
      "(1, 'Amanda', True)\n",
      "(2, 'Toby', False)\n",
      "(1, 'Amanda', True)\n",
      "(2, 'Toby', False)\n"
     ]
    }
   ],
   "source": [
    "try:\n",
    "    cur.execute(\"SELECT * FROM items_purchased\")                                                          \n",
    "except psycopg2.Error as e:\n",
    "    print(\"Error: select *\")    \n",
    "    print(e)                  \n",
    "                                                      \n",
    "row = cur.fetchone()\n",
    "while row:\n",
    "    print(row)\n",
    "    row = cur.fetchone()\n",
    "    \n",
    "print(\"-----------------------\") \n",
    "\n",
    "try:\n",
    "    cur.execute(\"SELECT * FROM store\")                                                          \n",
    "except psycopg2.Error as e:\n",
    "    print(\"Error: select *\")    \n",
    "    print(e)                  \n",
    "                                                      \n",
    "row = cur.fetchone()\n",
    "while row:\n",
    "    print(row)\n",
    "    row = cur.fetchone()\n",
    "    \n",
    "print(\"-----------------------\") \n",
    "\n",
    "try:\n",
    "    cur.execute(\"SELECT * FROM customer\")                                                          \n",
    "except psycopg2.Error as e:\n",
    "    print(\"Error: select *\")    \n",
    "    print(e)                  \n",
    "                                                      \n",
    "row = cur.fetchone()\n",
    "while row:\n",
    "    print(row)\n",
    "    row = cur.fetchone()\n"
   ]
  },
  {
   "cell_type": "code",
   "execution_count": null,
   "id": "3e9068bd",
   "metadata": {},
   "outputs": [],
   "source": [
    "# Query 1: Find all customers that spent more than 30 dollars, who they are, what did they buy and if they are a rewards member"
   ]
  },
  {
   "cell_type": "code",
   "execution_count": 14,
   "id": "d7624089",
   "metadata": {},
   "outputs": [
    {
     "name": "stdout",
     "output_type": "stream",
     "text": [
      "('Toby', 'Let It Be', False)\n",
      "('Toby', 'Let It Be', False)\n"
     ]
    }
   ],
   "source": [
    "try:\n",
    "    cur.execute(\"SELECT name, item_name, rewards FROM customer_transactions JOIN customer ON \\\n",
    "    customer_transactions.customer_id = customer.customer_id JOIN \\\n",
    "    items_purchased ON customer_transactions.customer_id = items_purchased.customer_id \\\n",
    "    WHERE spent > 30\")                                                  \n",
    "except psycopg2.Error as e:\n",
    "    print(\"Error: select *\")    \n",
    "    print(e)    \n",
    "    \n",
    "row = cur.fetchone()\n",
    "while row:\n",
    "    print(row)\n",
    "    row = cur.fetchone()  "
   ]
  },
  {
   "cell_type": "code",
   "execution_count": 15,
   "id": "bb39205c",
   "metadata": {},
   "outputs": [],
   "source": [
    "# Query 2: How much did Store 1 sell"
   ]
  },
  {
   "cell_type": "code",
   "execution_count": 18,
   "id": "d31b05ea",
   "metadata": {},
   "outputs": [
    {
     "name": "stdout",
     "output_type": "stream",
     "text": [
      "(1, Decimal('55.71'))\n"
     ]
    }
   ],
   "source": [
    "try:\n",
    "    cur.execute(\"SELECT store_id, SUM(spent) as AMOUNT_SPENT from customer_transactions \\\n",
    "    GROUP BY store_id\\\n",
    "    having store_id= 1\")\n",
    "except psycopg2.Error as e:\n",
    "    print(\"Error: select *\")    \n",
    "    print(e)    \n",
    "    \n",
    "row = cur.fetchone()\n",
    "while row:\n",
    "    print(row)\n",
    "    row = cur.fetchone()      "
   ]
  },
  {
   "cell_type": "code",
   "execution_count": null,
   "id": "97eb1fb1",
   "metadata": {},
   "outputs": [],
   "source": []
  }
 ],
 "metadata": {
  "kernelspec": {
   "display_name": "data_engg",
   "language": "python",
   "name": "data_engg"
  },
  "language_info": {
   "codemirror_mode": {
    "name": "ipython",
    "version": 3
   },
   "file_extension": ".py",
   "mimetype": "text/x-python",
   "name": "python",
   "nbconvert_exporter": "python",
   "pygments_lexer": "ipython3",
   "version": "3.9.5"
  }
 },
 "nbformat": 4,
 "nbformat_minor": 5
}
