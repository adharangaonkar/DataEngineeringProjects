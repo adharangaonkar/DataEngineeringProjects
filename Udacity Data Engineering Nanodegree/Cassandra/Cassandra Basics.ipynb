{
 "cells": [
  {
   "cell_type": "code",
   "execution_count": 40,
   "id": "b6e7872f",
   "metadata": {},
   "outputs": [],
   "source": [
    "from cassandra.cluster import Cluster"
   ]
  },
  {
   "cell_type": "code",
   "execution_count": 41,
   "id": "9cc3be87",
   "metadata": {},
   "outputs": [],
   "source": [
    "try:\n",
    "    cluster = Cluster(['127.0.0.1'])\n",
    "    session = cluster.connect()\n",
    "except Exception as e:\n",
    "    print(e)"
   ]
  },
  {
   "cell_type": "code",
   "execution_count": 42,
   "id": "a6a460b2",
   "metadata": {},
   "outputs": [],
   "source": [
    "# Create a keyspace "
   ]
  },
  {
   "cell_type": "code",
   "execution_count": 43,
   "id": "5085a353",
   "metadata": {},
   "outputs": [],
   "source": [
    "try:\n",
    "    session.execute(\"\"\"\n",
    "    CREATE KEYSPACE IF NOT EXISTS udacity\n",
    "    WITH REPLICATION =\n",
    "    { 'class' : 'SimpleStrategy', 'replication_factor' : 1}\"\"\"\n",
    ")\n",
    "\n",
    "except Exception as e:\n",
    "    print(e)    "
   ]
  },
  {
   "cell_type": "code",
   "execution_count": 44,
   "id": "586dd52d",
   "metadata": {},
   "outputs": [],
   "source": [
    "# connecting to the Keyspace"
   ]
  },
  {
   "cell_type": "code",
   "execution_count": 45,
   "id": "4a5245cc",
   "metadata": {},
   "outputs": [],
   "source": [
    "try:\n",
    "    session.set_keyspace('udacity')\n",
    "except Exception as e:\n",
    "    print(e)"
   ]
  },
  {
   "cell_type": "code",
   "execution_count": 46,
   "id": "9ef52d37",
   "metadata": {},
   "outputs": [],
   "source": [
    "# Create a table"
   ]
  },
  {
   "cell_type": "code",
   "execution_count": 47,
   "id": "576d9067",
   "metadata": {},
   "outputs": [],
   "source": [
    "query = \"CREATE TABLE IF NOT EXISTS music_library\"\n",
    "query = query + \"(year int, artist_name text, album_name text, PRIMARY KEY (year, artist_name))\"\n",
    "try:\n",
    "    session.execute(query)\n",
    "except Execption as e:\n",
    "    print(e)"
   ]
  },
  {
   "cell_type": "code",
   "execution_count": 48,
   "id": "a8b37e82",
   "metadata": {},
   "outputs": [],
   "source": [
    "# No error found"
   ]
  },
  {
   "cell_type": "code",
   "execution_count": 49,
   "id": "a30db634",
   "metadata": {},
   "outputs": [],
   "source": [
    "#Returning the inserted rows"
   ]
  },
  {
   "cell_type": "code",
   "execution_count": 50,
   "id": "338586bc",
   "metadata": {},
   "outputs": [
    {
     "name": "stdout",
     "output_type": "stream",
     "text": [
      "Row(count=0)\n"
     ]
    }
   ],
   "source": [
    "query = \"select count(*) from music_library\"\n",
    "try:\n",
    "    count = session.execute(query)\n",
    "except Exception as e:\n",
    "    print(e)\n",
    "    \n",
    "print(count.one())        "
   ]
  },
  {
   "cell_type": "code",
   "execution_count": 51,
   "id": "995733b9",
   "metadata": {},
   "outputs": [],
   "source": [
    "# Inserting rows"
   ]
  },
  {
   "cell_type": "code",
   "execution_count": 52,
   "id": "48c7bfc9",
   "metadata": {},
   "outputs": [],
   "source": [
    "query = \"INSERT INTO music_library (year, artist_name, album_name)\"\n",
    "query = query + \"VALUES(%s, %s, %s)\"\n",
    "\n",
    "try:\n",
    "    session.execute(query, (1970, \"The Beatles\", \"Let it Be\"))\n",
    "except Exception as e:\n",
    "    print(e)\n",
    "    \n",
    "try:\n",
    "    session.execute(query, (1965, \"The Beatles\", \"Rubber Soul\"))\n",
    "except Exception as e:\n",
    "    print(e)    "
   ]
  },
  {
   "cell_type": "code",
   "execution_count": 53,
   "id": "9be6dfe6",
   "metadata": {},
   "outputs": [],
   "source": [
    "# Validate the data"
   ]
  },
  {
   "cell_type": "code",
   "execution_count": 54,
   "id": "caf6ae48",
   "metadata": {},
   "outputs": [
    {
     "name": "stdout",
     "output_type": "stream",
     "text": [
      "1965 Rubber Soul The Beatles\n",
      "1970 Let it Be The Beatles\n"
     ]
    }
   ],
   "source": [
    "query = \"SELECT * FROM music_library\"\n",
    "\n",
    "try:\n",
    "    rows = session.execute(query)\n",
    "except Exception as e:\n",
    "    print(e)\n",
    "    \n",
    "for row in rows:\n",
    "    print(row.year, row.album_name, row.artist_name)"
   ]
  },
  {
   "cell_type": "code",
   "execution_count": 55,
   "id": "fd66ccf4",
   "metadata": {},
   "outputs": [],
   "source": [
    "# Validate data with where"
   ]
  },
  {
   "cell_type": "code",
   "execution_count": 58,
   "id": "71c61325",
   "metadata": {},
   "outputs": [
    {
     "name": "stdout",
     "output_type": "stream",
     "text": [
      "1970 Let it Be The Beatles\n"
     ]
    }
   ],
   "source": [
    "query = \"SELECT * FROM music_library WHERE YEAR = 1970 AND artist_name = 'The Beatles'\"\n",
    "\n",
    "try:\n",
    "    rows = session.execute(query)\n",
    "except Exception as e:\n",
    "    print(e)\n",
    "    \n",
    "for row in rows:\n",
    "    print(row.year, row.album_name, row.artist_name)"
   ]
  },
  {
   "cell_type": "code",
   "execution_count": 59,
   "id": "35eee99e",
   "metadata": {},
   "outputs": [],
   "source": [
    "# Drop the table"
   ]
  },
  {
   "cell_type": "code",
   "execution_count": 60,
   "id": "13d4ba04",
   "metadata": {},
   "outputs": [],
   "source": [
    "query = \"drop table music_library\"\n",
    "\n",
    "try:\n",
    "    rows = session.execute(query)\n",
    "except Exception as e:\n",
    "    print(e)"
   ]
  },
  {
   "cell_type": "code",
   "execution_count": 61,
   "id": "64fcef64",
   "metadata": {},
   "outputs": [],
   "source": [
    "#Close the session and cluster"
   ]
  },
  {
   "cell_type": "code",
   "execution_count": 62,
   "id": "1f700459",
   "metadata": {},
   "outputs": [],
   "source": [
    "session.shutdown()\n",
    "cluster.shutdown()"
   ]
  },
  {
   "cell_type": "code",
   "execution_count": null,
   "id": "f47eeb0c",
   "metadata": {},
   "outputs": [],
   "source": []
  }
 ],
 "metadata": {
  "kernelspec": {
   "display_name": "data_engg",
   "language": "python",
   "name": "data_engg"
  },
  "language_info": {
   "codemirror_mode": {
    "name": "ipython",
    "version": 3
   },
   "file_extension": ".py",
   "mimetype": "text/x-python",
   "name": "python",
   "nbconvert_exporter": "python",
   "pygments_lexer": "ipython3",
   "version": "3.9.5"
  }
 },
 "nbformat": 4,
 "nbformat_minor": 5
}
