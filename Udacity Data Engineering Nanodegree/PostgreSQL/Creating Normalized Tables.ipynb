{
 "cells": [
  {
   "cell_type": "code",
   "execution_count": 1,
   "id": "2b6683ee",
   "metadata": {},
   "outputs": [],
   "source": [
    "import psycopg2"
   ]
  },
  {
   "cell_type": "markdown",
   "id": "6fa8f5f3",
   "metadata": {},
   "source": [
    "### Create connection to the database, get a cursor, and set autocommit to true"
   ]
  },
  {
   "cell_type": "code",
   "execution_count": 3,
   "id": "ff4f6889",
   "metadata": {},
   "outputs": [],
   "source": [
    "try:\n",
    "    conn = psycopg2.connect(\"dbname = udacity user=postgres password=password\")\n",
    "except psycopg2.Error as e:\n",
    "    print(\"Error: Could not make connection to the Database\")\n",
    "    print(e)\n",
    "    \n",
    "try:\n",
    "    cur = conn.cursor()\n",
    "except psycopg2.Error as e:\n",
    "    print(\"Error: Could not get the cursor to the Database\")\n",
    "    \n",
    "conn.set_session(autocommit = True)    "
   ]
  },
  {
   "cell_type": "code",
   "execution_count": 4,
   "id": "628a0993",
   "metadata": {},
   "outputs": [],
   "source": [
    "# Create Table and Insert the data"
   ]
  },
  {
   "cell_type": "code",
   "execution_count": 12,
   "id": "cd045831",
   "metadata": {},
   "outputs": [
    {
     "name": "stdout",
     "output_type": "stream",
     "text": [
      "(1, 'Rubber Soul', 'The Beatles', 1965, ['Michelle', 'Think For Yourself', 'In My Life'])\n",
      "(2, 'Let It Be', 'The Beatles', 1970, ['Let It Be', 'Across The Universe'])\n"
     ]
    }
   ],
   "source": [
    "try:\n",
    "    cur.execute(\"CREATE TABLE IF NOT EXISTS music_library (album_id int, album_name varchar, artist_name varchar, year int, song text[]);\")\n",
    "except psycopg2.Error as e:\n",
    "    print(\"Error: Issue Creating the table\") \n",
    "    print(e)\n",
    "    \n",
    "try:\n",
    "    cur.execute(\"INSERT INTO music_library (album_id, album_name, artist_name, year, song) \\\n",
    "    VALUES (%s, %s, %s, %s, %s)\", \\\n",
    "               (1, \"Rubber Soul\", \"The Beatles\", 1965, [\"Michelle\", \"Think For Yourself\", \"In My Life\"]))   \n",
    "except psycopg2.Error as e:\n",
    "    print(\"Error: Inserting Rows\")\n",
    "    print(e)\n",
    "    \n",
    "try:\n",
    "    cur.execute(\"INSERT INTO music_library (album_id, album_name, artist_name, year, song) \\\n",
    "    VALUES (%s, %s, %s, %s, %s)\", \\\n",
    "               (2, \"Let It Be\", \"The Beatles\", 1970, [\"Let It Be\", \"Across The Universe\"]))   \n",
    "except psycopg2.Error as e:\n",
    "    print(\"Error: Inserting Rows\")    \n",
    "    print(e)                  \n",
    "                                                      \n",
    "try:\n",
    "    cur.execute(\"SELECT * FROM music_library\")                                                          \n",
    "except psycopg2.Error as e:\n",
    "    print(\"Error: select *\")    \n",
    "    print(e)                  \n",
    "                                                      \n",
    "row = cur.fetchone()\n",
    "while row:\n",
    "    print(row)\n",
    "    row = cur.fetchone()                                                      "
   ]
  },
  {
   "cell_type": "code",
   "execution_count": 14,
   "id": "43639aa4",
   "metadata": {},
   "outputs": [],
   "source": [
    "# Converting into 1-NF"
   ]
  },
  {
   "cell_type": "code",
   "execution_count": 13,
   "id": "85b5e696",
   "metadata": {},
   "outputs": [
    {
     "name": "stdout",
     "output_type": "stream",
     "text": [
      "(1, 'Rubber Soul', 'The Beatles', 1965, 'Michelle')\n",
      "(1, 'Rubber Soul', 'The Beatles', 1965, 'Think For Yourself')\n",
      "(1, 'Rubber Soul', 'The Beatles', 1965, 'In My Life')\n",
      "(2, 'Let It Be', 'The Beatles', 1970, 'Let It Be')\n",
      "(2, 'Let It Be', 'The Beatles', 1970, 'Across The Universe')\n"
     ]
    }
   ],
   "source": [
    "try:\n",
    "    cur.execute(\"CREATE TABLE IF NOT EXISTS music_library2 (album_id int, album_name varchar, artist_name varchar, year int, song_name varchar);\")\n",
    "except psycopg2.Error as e:\n",
    "    print(\"Error: Issue Creating the table\") \n",
    "    print(e)\n",
    "    \n",
    "try:\n",
    "    cur.execute(\"INSERT INTO music_library2 (album_id, album_name, artist_name, year, song_name) \\\n",
    "    VALUES (%s, %s, %s, %s, %s)\", \\\n",
    "               (1, \"Rubber Soul\", \"The Beatles\", 1965, \"Michelle\"))   \n",
    "except psycopg2.Error as e:\n",
    "    print(\"Error: Inserting Rows\")\n",
    "    print(e)\n",
    "\n",
    "try:\n",
    "    cur.execute(\"INSERT INTO music_library2 (album_id, album_name, artist_name, year, song_name) \\\n",
    "    VALUES (%s, %s, %s, %s, %s)\", \\\n",
    "               (1, \"Rubber Soul\", \"The Beatles\", 1965,  \"Think For Yourself\"))   \n",
    "except psycopg2.Error as e:\n",
    "    print(\"Error: Inserting Rows\")\n",
    "    print(e)\n",
    "    \n",
    "try:\n",
    "    cur.execute(\"INSERT INTO music_library2 (album_id, album_name, artist_name, year, song_name) \\\n",
    "    VALUES (%s, %s, %s, %s, %s)\", \\\n",
    "               (1, \"Rubber Soul\", \"The Beatles\", 1965, \"In My Life\"))   \n",
    "except psycopg2.Error as e:\n",
    "    print(\"Error: Inserting Rows\")\n",
    "    print(e)    \n",
    "    \n",
    "    \n",
    "    \n",
    "try:\n",
    "    cur.execute(\"INSERT INTO music_library2 (album_id, album_name, artist_name, year, song_name) \\\n",
    "    VALUES (%s, %s, %s, %s, %s)\", \\\n",
    "               (2, \"Let It Be\", \"The Beatles\", 1970, \"Let It Be\"))   \n",
    "except psycopg2.Error as e:\n",
    "    print(\"Error: Inserting Rows\")    \n",
    "    print(e) \n",
    "    \n",
    "try:\n",
    "    cur.execute(\"INSERT INTO music_library2 (album_id, album_name, artist_name, year, song_name) \\\n",
    "    VALUES (%s, %s, %s, %s, %s)\", \\\n",
    "               (2, \"Let It Be\", \"The Beatles\", 1970, \"Across The Universe\"))   \n",
    "except psycopg2.Error as e:\n",
    "    print(\"Error: Inserting Rows\")    \n",
    "    print(e) \n",
    "    \n",
    "                                                      \n",
    "try:\n",
    "    cur.execute(\"SELECT * FROM music_library2\")                                                          \n",
    "except psycopg2.Error as e:\n",
    "    print(\"Error: select *\")    \n",
    "    print(e)                  \n",
    "                                                      \n",
    "row = cur.fetchone()\n",
    "while row:\n",
    "    print(row)\n",
    "    row = cur.fetchone()                                                      "
   ]
  },
  {
   "cell_type": "code",
   "execution_count": 15,
   "id": "b2c50922",
   "metadata": {},
   "outputs": [],
   "source": [
    "# Converting into 2-NF"
   ]
  },
  {
   "cell_type": "code",
   "execution_count": 22,
   "id": "ff93571b",
   "metadata": {},
   "outputs": [
    {
     "name": "stdout",
     "output_type": "stream",
     "text": [
      "(1, 'Rubber Soul', 'The Beatles', 1965)\n",
      "(2, 'Let It Be', 'The Beatles', 1970)\n",
      "(1, 1, 'Michelle')\n",
      "(2, 1, 'Think For Yourself')\n",
      "(3, 1, 'In My Life')\n",
      "(4, 2, 'Let It Be')\n",
      "(5, 2, 'Across The Universe')\n"
     ]
    }
   ],
   "source": [
    "#####################################################\n",
    "try:\n",
    "    cur.execute(\"CREATE TABLE IF NOT EXISTS album_library (album_id int, album_name varchar, artist_name varchar, year int);\")\n",
    "except psycopg2.Error as e:\n",
    "    print(\"Error: Issue Creating the table\") \n",
    "    print(e)\n",
    "    \n",
    "try:\n",
    "    cur.execute(\"CREATE TABLE IF NOT EXISTS song_library (song_id int, album_id int, song_name varchar);\")\n",
    "except psycopg2.Error as e:\n",
    "    print(\"Error: Issue Creating the table\") \n",
    "    print(e)    \n",
    "#####################################################    \n",
    "try:\n",
    "    cur.execute(\"INSERT INTO album_library (album_id, album_name, artist_name, year) \\\n",
    "    VALUES (%s, %s, %s, %s)\", \\\n",
    "               (1, \"Rubber Soul\", \"The Beatles\", 1965))\n",
    "except psycopg2.Error as e:\n",
    "    print(\"Error: Inserting Rows\")    \n",
    "    print(e)         \n",
    "\n",
    "try:\n",
    "    cur.execute(\"INSERT INTO album_library (album_id, album_name, artist_name, year) \\\n",
    "    VALUES (%s, %s, %s, %s)\", \\\n",
    "               (2, \"Let It Be\", \"The Beatles\", 1970))\n",
    "except psycopg2.Error as e:\n",
    "    print(\"Error: Inserting Rows\")    \n",
    "    print(e)    \n",
    "#####################################################\n",
    "try:\n",
    "    cur.execute(\"INSERT INTO song_library (song_id, album_id ,song_name) \\\n",
    "    VALUES (%s, %s, %s)\", \\\n",
    "                (1 , 1, \"Michelle\"))\n",
    "except psycopg2.Error as e:\n",
    "    print(\"Error: Inserting Rows\")    \n",
    "    print(e)        \n",
    "    \n",
    "try:\n",
    "    cur.execute(\"INSERT INTO song_library (song_id, album_id ,song_name) \\\n",
    "    VALUES (%s, %s, %s)\", \\\n",
    "               (2, 1, \"Think For Yourself\"))\n",
    "except psycopg2.Error as e:\n",
    "    print(\"Error: Inserting Rows\")    \n",
    "    print(e)    \n",
    "    \n",
    "try:\n",
    "    cur.execute(\"INSERT INTO song_library (song_id, album_id ,song_name) \\\n",
    "    VALUES (%s, %s, %s)\", \\\n",
    "               (3, 1, \"In My Life\"))\n",
    "except psycopg2.Error as e:\n",
    "    print(\"Error: Inserting Rows\")    \n",
    "    print(e)\n",
    "    \n",
    "try:\n",
    "    cur.execute(\"INSERT INTO song_library (song_id, album_id ,song_name) \\\n",
    "    VALUES (%s, %s, %s)\", \\\n",
    "               (4, 2, \"Let It Be\"))\n",
    "except psycopg2.Error as e:\n",
    "    print(\"Error: Inserting Rows\")    \n",
    "    print(e)    \n",
    "    \n",
    "try:\n",
    "    cur.execute(\"INSERT INTO song_library (song_id, album_id ,song_name) \\\n",
    "    VALUES (%s, %s, %s)\", \\\n",
    "               (5, 2, \"Across The Universe\"))\n",
    "except psycopg2.Error as e:\n",
    "    print(\"Error: Inserting Rows\")    \n",
    "    print(e)    \n",
    "####################################################### \n",
    "try:\n",
    "    cur.execute(\"SELECT * FROM album_library\")                                                          \n",
    "except psycopg2.Error as e:\n",
    "    print(\"Error: select *\")    \n",
    "    print(e)                  \n",
    "                                                      \n",
    "row = cur.fetchone()\n",
    "while row:\n",
    "    print(row)\n",
    "    row = cur.fetchone()   \n",
    "\n",
    "try:\n",
    "    cur.execute(\"SELECT * FROM song_library\")                                                          \n",
    "except psycopg2.Error as e:\n",
    "    print(\"Error: select *\")    \n",
    "    print(e)                  \n",
    "                                                      \n",
    "row = cur.fetchone()\n",
    "while row:\n",
    "    print(row)\n",
    "    row = cur.fetchone()   "
   ]
  },
  {
   "cell_type": "code",
   "execution_count": 23,
   "id": "55bda7d3",
   "metadata": {},
   "outputs": [],
   "source": [
    "# Joining both tables "
   ]
  },
  {
   "cell_type": "code",
   "execution_count": 24,
   "id": "d3a6638b",
   "metadata": {},
   "outputs": [
    {
     "name": "stdout",
     "output_type": "stream",
     "text": [
      "(1, 'Rubber Soul', 'The Beatles', 1965, 1, 1, 'Michelle')\n",
      "(1, 'Rubber Soul', 'The Beatles', 1965, 2, 1, 'Think For Yourself')\n",
      "(1, 'Rubber Soul', 'The Beatles', 1965, 3, 1, 'In My Life')\n",
      "(2, 'Let It Be', 'The Beatles', 1970, 4, 2, 'Let It Be')\n",
      "(2, 'Let It Be', 'The Beatles', 1970, 5, 2, 'Across The Universe')\n"
     ]
    }
   ],
   "source": [
    "try:\n",
    "    cur.execute(\"SELECT * FROM album_library JOIN song_library ON album_library.album_id = song_library.album_id;\")                                                          \n",
    "except psycopg2.Error as e:\n",
    "    print(\"Error: select *\")    \n",
    "    print(e)  \n",
    "\n",
    "row = cur.fetchone()\n",
    "while row:\n",
    "    print(row)\n",
    "    row = cur.fetchone() "
   ]
  },
  {
   "cell_type": "code",
   "execution_count": 25,
   "id": "03b79638",
   "metadata": {},
   "outputs": [],
   "source": [
    "# Converting to 3-NF"
   ]
  },
  {
   "cell_type": "code",
   "execution_count": 28,
   "id": "47d1fc70",
   "metadata": {},
   "outputs": [
    {
     "name": "stdout",
     "output_type": "stream",
     "text": [
      "(1, 'Rubber Soul', 1, 1965)\n",
      "(2, 'Let It Be', 1, 1970)\n",
      "(1, 1, 'Michelle')\n",
      "(2, 1, 'Think For Yourself')\n",
      "(3, 1, 'In My Life')\n",
      "(4, 2, 'Let It Be')\n",
      "(5, 2, 'Across The Universe')\n",
      "(1, 'The Beatles')\n"
     ]
    }
   ],
   "source": [
    "#####################################################\n",
    "try:\n",
    "    cur.execute(\"CREATE TABLE IF NOT EXISTS album_library2 (album_id int, album_name varchar, artist_id int, year int);\")\n",
    "except psycopg2.Error as e:\n",
    "    print(\"Error: Issue Creating the table\") \n",
    "    print(e)\n",
    "    \n",
    "try:\n",
    "    cur.execute(\"CREATE TABLE IF NOT EXISTS song_library (song_id int, album_id int, song_name varchar);\")\n",
    "except psycopg2.Error as e:\n",
    "    print(\"Error: Issue Creating the table\") \n",
    "    print(e)    \n",
    "    \n",
    "try:\n",
    "    cur.execute(\"CREATE TABLE IF NOT EXISTS artist_library (artist_id int, artist_name varchar);\")\n",
    "except psycopg2.Error as e:\n",
    "    print(\"Error: Issue Creating the table\") \n",
    "    print(e)    \n",
    "    \n",
    "#####################################################    \n",
    "try:\n",
    "    cur.execute(\"INSERT INTO album_library2 (album_id , album_name , artist_id, year) \\\n",
    "    VALUES (%s, %s, %s, %s)\", \\\n",
    "               (1, \"Rubber Soul\", 1, 1965))\n",
    "except psycopg2.Error as e:\n",
    "    print(\"Error: Inserting Rows\")    \n",
    "    print(e)         \n",
    "\n",
    "try:\n",
    "    cur.execute(\"INSERT INTO album_library2 (album_id, album_name, artist_id, year) \\\n",
    "    VALUES (%s, %s, %s, %s)\", \\\n",
    "               (2, \"Let It Be\", 1, 1970))\n",
    "except psycopg2.Error as e:\n",
    "    print(\"Error: Inserting Rows\")    \n",
    "    print(e)    \n",
    "#####################################################\n",
    "try:\n",
    "    cur.execute(\"INSERT INTO song_library (song_id, album_id ,song_name) \\\n",
    "    VALUES (%s, %s, %s)\", \\\n",
    "                (1 , 1, \"Michelle\"))\n",
    "except psycopg2.Error as e:\n",
    "    print(\"Error: Inserting Rows\")    \n",
    "    print(e)        \n",
    "    \n",
    "try:\n",
    "    cur.execute(\"INSERT INTO song_library (song_id, album_id ,song_name) \\\n",
    "    VALUES (%s, %s, %s)\", \\\n",
    "               (2, 1, \"Think For Yourself\"))\n",
    "except psycopg2.Error as e:\n",
    "    print(\"Error: Inserting Rows\")    \n",
    "    print(e)    \n",
    "    \n",
    "try:\n",
    "    cur.execute(\"INSERT INTO song_library (song_id, album_id ,song_name) \\\n",
    "    VALUES (%s, %s, %s)\", \\\n",
    "               (3, 1, \"In My Life\"))\n",
    "except psycopg2.Error as e:\n",
    "    print(\"Error: Inserting Rows\")    \n",
    "    print(e)\n",
    "    \n",
    "try:\n",
    "    cur.execute(\"INSERT INTO song_library (song_id, album_id ,song_name) \\\n",
    "    VALUES (%s, %s, %s)\", \\\n",
    "               (4, 2, \"Let It Be\"))\n",
    "except psycopg2.Error as e:\n",
    "    print(\"Error: Inserting Rows\")    \n",
    "    print(e)    \n",
    "    \n",
    "try:\n",
    "    cur.execute(\"INSERT INTO song_library (song_id, album_id ,song_name) \\\n",
    "    VALUES (%s, %s, %s)\", \\\n",
    "               (5, 2, \"Across The Universe\"))\n",
    "except psycopg2.Error as e:\n",
    "    print(\"Error: Inserting Rows\")    \n",
    "    print(e)    \n",
    "    \n",
    "try:\n",
    "    cur.execute(\"INSERT INTO artist_library (artist_id , artist_name) \\\n",
    "    VALUES (%s, %s)\", \\\n",
    "               (1, \"The Beatles\"))\n",
    "except psycopg2.Error as e:\n",
    "    print(\"Error: Inserting Rows\")    \n",
    "    print(e)        \n",
    "    \n",
    "####################################################### \n",
    "try:\n",
    "    cur.execute(\"SELECT * FROM album_library2\")                                                          \n",
    "except psycopg2.Error as e:\n",
    "    print(\"Error: select *\")    \n",
    "    print(e)                  \n",
    "                                                      \n",
    "row = cur.fetchone()\n",
    "while row:\n",
    "    print(row)\n",
    "    row = cur.fetchone()   \n",
    "\n",
    "try:\n",
    "    cur.execute(\"SELECT * FROM song_library\")                                                          \n",
    "except psycopg2.Error as e:\n",
    "    print(\"Error: select *\")    \n",
    "    print(e)                  \n",
    "                                                      \n",
    "row = cur.fetchone()\n",
    "while row:\n",
    "    print(row)\n",
    "    row = cur.fetchone()   \n",
    "    \n",
    "try:\n",
    "    cur.execute(\"SELECT * FROM artist_library\")                                                          \n",
    "except psycopg2.Error as e:\n",
    "    print(\"Error: select *\")    \n",
    "    print(e)                  \n",
    "                                                      \n",
    "row = cur.fetchone()\n",
    "while row:\n",
    "    print(row)\n",
    "    row = cur.fetchone()     "
   ]
  },
  {
   "cell_type": "code",
   "execution_count": 29,
   "id": "0332172f",
   "metadata": {},
   "outputs": [],
   "source": [
    "# Now joining all three tables"
   ]
  },
  {
   "cell_type": "code",
   "execution_count": 34,
   "id": "a805129a",
   "metadata": {},
   "outputs": [
    {
     "name": "stdout",
     "output_type": "stream",
     "text": [
      "(1, 'The Beatles', 1, 'Rubber Soul', 1, 1965, 1, 1, 'Michelle')\n",
      "(1, 'The Beatles', 1, 'Rubber Soul', 1, 1965, 2, 1, 'Think For Yourself')\n",
      "(1, 'The Beatles', 1, 'Rubber Soul', 1, 1965, 3, 1, 'In My Life')\n",
      "(1, 'The Beatles', 2, 'Let It Be', 1, 1970, 4, 2, 'Let It Be')\n",
      "(1, 'The Beatles', 2, 'Let It Be', 1, 1970, 5, 2, 'Across The Universe')\n"
     ]
    }
   ],
   "source": [
    "try:\n",
    "    cur.execute(\"SELECT * FROM (artist_library JOIN album_library2 ON \\\n",
    "    artist_library.artist_id = album_library2.artist_id) JOIN \\\n",
    "    song_library ON album_library2.album_id = song_library.album_id\")                                                  \n",
    "except psycopg2.Error as e:\n",
    "    print(\"Error: select *\")    \n",
    "    print(e)    \n",
    "    \n",
    "row = cur.fetchone()\n",
    "while row:\n",
    "    print(row)\n",
    "    row = cur.fetchone()         "
   ]
  },
  {
   "cell_type": "code",
   "execution_count": null,
   "id": "517b3356",
   "metadata": {},
   "outputs": [],
   "source": [
    "# Drop the tables"
   ]
  },
  {
   "cell_type": "code",
   "execution_count": 36,
   "id": "774c3091",
   "metadata": {},
   "outputs": [
    {
     "name": "stdout",
     "output_type": "stream",
     "text": [
      "Error: Dropping table\n",
      "table \"music_library\" does not exist\n",
      "\n",
      "Error: Dropping table\n",
      "table \"music_library2\" does not exist\n",
      "\n",
      "Error: Dropping table\n",
      "table \"album_library\" does not exist\n",
      "\n",
      "Error: Dropping table\n",
      "table \"song_library\" does not exist\n",
      "\n"
     ]
    }
   ],
   "source": [
    "try:\n",
    "    cur.execute(\"DROP table music_library\")\n",
    "except psycopg2.Error as e:\n",
    "    print(\"Error: Dropping table\")\n",
    "    print(e)\n",
    "try:\n",
    "    cur.execute(\"DROP table music_library2\")\n",
    "except psycopg2.Error as e:\n",
    "    print(\"Error: Dropping table\")\n",
    "    print(e)\n",
    "try:\n",
    "    cur.execute(\"DROP table album_library\")\n",
    "except psycopg2.Error as e:\n",
    "    print(\"Error: Dropping table\")\n",
    "    print(e)    \n",
    "try:\n",
    "    cur.execute(\"DROP table album_library2\")\n",
    "except psycopg2.Error as e:\n",
    "    print(\"Error: Dropping table\")\n",
    "    print(e)    \n",
    "try:\n",
    "    cur.execute(\"DROP table artist_library\")\n",
    "except psycopg2.Error as e:\n",
    "    print(\"Error: Dropping table\")\n",
    "    print(e)\n",
    "try:\n",
    "    cur.execute(\"DROP table song_library\")\n",
    "except psycopg2.Error as e:\n",
    "    print(\"Error: Dropping table\")\n",
    "    print(e)    "
   ]
  },
  {
   "cell_type": "code",
   "execution_count": 37,
   "id": "3f370ce7",
   "metadata": {},
   "outputs": [],
   "source": [
    "# Closing the connections and cursor"
   ]
  },
  {
   "cell_type": "code",
   "execution_count": 39,
   "id": "2490dfd1",
   "metadata": {},
   "outputs": [],
   "source": [
    "cur.close()\n",
    "conn.close()"
   ]
  },
  {
   "cell_type": "code",
   "execution_count": null,
   "id": "636caf25",
   "metadata": {},
   "outputs": [],
   "source": []
  }
 ],
 "metadata": {
  "kernelspec": {
   "display_name": "data_engg",
   "language": "python",
   "name": "data_engg"
  },
  "language_info": {
   "codemirror_mode": {
    "name": "ipython",
    "version": 3
   },
   "file_extension": ".py",
   "mimetype": "text/x-python",
   "name": "python",
   "nbconvert_exporter": "python",
   "pygments_lexer": "ipython3",
   "version": "3.9.5"
  }
 },
 "nbformat": 4,
 "nbformat_minor": 5
}
